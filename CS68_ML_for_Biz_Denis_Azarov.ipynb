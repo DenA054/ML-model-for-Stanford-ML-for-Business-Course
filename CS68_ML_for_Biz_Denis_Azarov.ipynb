{
  "nbformat": 4,
  "nbformat_minor": 0,
  "metadata": {
    "colab": {
      "provenance": [],
      "authorship_tag": "ABX9TyOWX6sw4kptEuwajcvpNBe7",
      "include_colab_link": true
    },
    "kernelspec": {
      "name": "python3",
      "display_name": "Python 3"
    },
    "language_info": {
      "name": "python"
    }
  },
  "cells": [
    {
      "cell_type": "markdown",
      "metadata": {
        "id": "view-in-github",
        "colab_type": "text"
      },
      "source": [
        "<a href=\"https://colab.research.google.com/github/DenA054/stanfproj/blob/main/CS68_ML_for_Biz_Denis_Azarov.ipynb\" target=\"_parent\"><img src=\"https://colab.research.google.com/assets/colab-badge.svg\" alt=\"Open In Colab\"/></a>"
      ]
    },
    {
      "cell_type": "code",
      "execution_count": null,
      "metadata": {
        "id": "7Ob5Xhhk1tNT"
      },
      "outputs": [],
      "source": [
        "import pandas as pd\n",
        "import datetime\n",
        "import seaborn as sns\n",
        "import statsmodels.api as sm\n",
        "import numpy as np\n",
        "import matplotlib.pyplot as plt\n",
        "from sklearn.preprocessing import StandardScaler, LabelEncoder\n",
        "from sklearn.model_selection import train_test_split\n",
        "from sklearn.linear_model import LogisticRegression\n",
        "from sklearn.metrics import roc_curve\n",
        "from sklearn.metrics import roc_auc_score\n",
        "from sklearn import tree\n",
        "from sklearn import preprocessing"
      ]
    },
    {
      "cell_type": "markdown",
      "source": [
        "#Data import"
      ],
      "metadata": {
        "id": "gIhg_0dDvrFS"
      }
    },
    {
      "cell_type": "code",
      "source": [
        "!pip install opendatasets --upgrade\n",
        "\n",
        "import opendatasets as od\n",
        "dataset_url = 'https://www.kaggle.com/datasets/sobhanmoosavi/us-accidents?datasetId=199387&searchQuery=regression'\n",
        "od.download(dataset_url)"
      ],
      "metadata": {
        "colab": {
          "base_uri": "https://localhost:8080/"
        },
        "id": "Fhpg4dnJu6lH",
        "outputId": "4c927dde-7734-49f7-8d58-6946e5f0c0bc"
      },
      "execution_count": null,
      "outputs": [
        {
          "output_type": "stream",
          "name": "stdout",
          "text": [
            "Looking in indexes: https://pypi.org/simple, https://us-python.pkg.dev/colab-wheels/public/simple/\n",
            "Requirement already satisfied: opendatasets in /usr/local/lib/python3.8/dist-packages (0.1.22)\n",
            "Requirement already satisfied: tqdm in /usr/local/lib/python3.8/dist-packages (from opendatasets) (4.64.1)\n",
            "Requirement already satisfied: click in /usr/local/lib/python3.8/dist-packages (from opendatasets) (7.1.2)\n",
            "Requirement already satisfied: kaggle in /usr/local/lib/python3.8/dist-packages (from opendatasets) (1.5.12)\n",
            "Requirement already satisfied: urllib3 in /usr/local/lib/python3.8/dist-packages (from kaggle->opendatasets) (1.24.3)\n",
            "Requirement already satisfied: requests in /usr/local/lib/python3.8/dist-packages (from kaggle->opendatasets) (2.25.1)\n",
            "Requirement already satisfied: python-slugify in /usr/local/lib/python3.8/dist-packages (from kaggle->opendatasets) (8.0.0)\n",
            "Requirement already satisfied: python-dateutil in /usr/local/lib/python3.8/dist-packages (from kaggle->opendatasets) (2.8.2)\n",
            "Requirement already satisfied: six>=1.10 in /usr/local/lib/python3.8/dist-packages (from kaggle->opendatasets) (1.15.0)\n",
            "Requirement already satisfied: certifi in /usr/local/lib/python3.8/dist-packages (from kaggle->opendatasets) (2022.12.7)\n",
            "Requirement already satisfied: text-unidecode>=1.3 in /usr/local/lib/python3.8/dist-packages (from python-slugify->kaggle->opendatasets) (1.3)\n",
            "Requirement already satisfied: idna<3,>=2.5 in /usr/local/lib/python3.8/dist-packages (from requests->kaggle->opendatasets) (2.10)\n",
            "Requirement already satisfied: chardet<5,>=3.0.2 in /usr/local/lib/python3.8/dist-packages (from requests->kaggle->opendatasets) (4.0.0)\n",
            "Skipping, found downloaded files in \"./us-accidents\" (use force=True to force download)\n"
          ]
        }
      ]
    },
    {
      "cell_type": "code",
      "source": [
        "df_org=pd.read_csv('/content/us-accidents/US_Accidents_Dec21_updated.csv')\n",
        "df_org.dropna(inplace=True) # Dropping NANs"
      ],
      "metadata": {
        "id": "8snN1yzHvPT2"
      },
      "execution_count": null,
      "outputs": []
    },
    {
      "cell_type": "code",
      "source": [
        "#filter the data to exclude years of COVID-19\n",
        "df_org = df_org[df_org['Start_Time'].str.startswith(('2016','2017','2018','2019'))]"
      ],
      "metadata": {
        "id": "beFmMuyvphxE"
      },
      "execution_count": null,
      "outputs": []
    },
    {
      "cell_type": "markdown",
      "source": [
        "# Number of Accidents in Los Angeles Regression"
      ],
      "metadata": {
        "id": "NJl-N0Srvt8Q"
      }
    },
    {
      "cell_type": "code",
      "source": [
        "#filter the cities to only include LA to reduce dataset on size\n",
        "df_LA = df_org[df_org['City'] == 'Los Angeles']"
      ],
      "metadata": {
        "id": "WGGuW-P92AVs"
      },
      "execution_count": null,
      "outputs": []
    },
    {
      "cell_type": "markdown",
      "source": [
        "#Missing Weather Data"
      ],
      "metadata": {
        "id": "PWMZ7ECFnEMp"
      }
    },
    {
      "cell_type": "code",
      "source": [
        "# One of the few NCEI weather stations in CA that tracks WT01 & WT08 weather Types - Fog, ice fog, smoke and haze\n",
        "weather_data_LA  = pd.read_csv('https://www.ncei.noaa.gov/access/services/data/v1?dataset=daily-summaries&dataTypes=TMAX&dataTypes=TMIN&dataTypes=PRCP&dataTypes=WT08&dataTypes=AWND&dataTypes=WT01&stations=USW00093134&startDate=2017-01-01&endDate=2019-12-31&units=standard&format=csv&token=mGUGnIjKAlLqGSkTOagbLkuQaILeMSEj')"
      ],
      "metadata": {
        "id": "xh8amQdBnIxg"
      },
      "execution_count": null,
      "outputs": []
    },
    {
      "cell_type": "markdown",
      "source": [
        "#Merge"
      ],
      "metadata": {
        "id": "fpFm8aNwn7n3"
      }
    },
    {
      "cell_type": "code",
      "source": [
        "# Extract day from the start_time column\n",
        "df_LA['Start_Time'] = pd.to_datetime(df_LA['Start_Time'])\n",
        "df_LA['day'] = df_LA['Start_Time'].dt.day\n",
        "df_LA['month'] = df_LA['Start_Time'].dt.month\n",
        "df_LA['year'] = df_LA['Start_Time'].dt.year\n",
        "df_LA['year_month_day'] = df_LA['year'].astype(str) + '-' + df_LA['month'].astype(str)+ '-' + df_LA['day'].astype(str)"
      ],
      "metadata": {
        "id": "5FBKBLAIs7iS",
        "colab": {
          "base_uri": "https://localhost:8080/"
        },
        "outputId": "7ac64009-3d59-495a-c300-918313aa58cc"
      },
      "execution_count": null,
      "outputs": [
        {
          "output_type": "stream",
          "name": "stderr",
          "text": [
            "<ipython-input-435-281d99e2b003>:2: SettingWithCopyWarning: \n",
            "A value is trying to be set on a copy of a slice from a DataFrame.\n",
            "Try using .loc[row_indexer,col_indexer] = value instead\n",
            "\n",
            "See the caveats in the documentation: https://pandas.pydata.org/pandas-docs/stable/user_guide/indexing.html#returning-a-view-versus-a-copy\n",
            "  df_LA['Start_Time'] = pd.to_datetime(df_LA['Start_Time'])\n",
            "<ipython-input-435-281d99e2b003>:3: SettingWithCopyWarning: \n",
            "A value is trying to be set on a copy of a slice from a DataFrame.\n",
            "Try using .loc[row_indexer,col_indexer] = value instead\n",
            "\n",
            "See the caveats in the documentation: https://pandas.pydata.org/pandas-docs/stable/user_guide/indexing.html#returning-a-view-versus-a-copy\n",
            "  df_LA['day'] = df_LA['Start_Time'].dt.day\n",
            "<ipython-input-435-281d99e2b003>:4: SettingWithCopyWarning: \n",
            "A value is trying to be set on a copy of a slice from a DataFrame.\n",
            "Try using .loc[row_indexer,col_indexer] = value instead\n",
            "\n",
            "See the caveats in the documentation: https://pandas.pydata.org/pandas-docs/stable/user_guide/indexing.html#returning-a-view-versus-a-copy\n",
            "  df_LA['month'] = df_LA['Start_Time'].dt.month\n",
            "<ipython-input-435-281d99e2b003>:5: SettingWithCopyWarning: \n",
            "A value is trying to be set on a copy of a slice from a DataFrame.\n",
            "Try using .loc[row_indexer,col_indexer] = value instead\n",
            "\n",
            "See the caveats in the documentation: https://pandas.pydata.org/pandas-docs/stable/user_guide/indexing.html#returning-a-view-versus-a-copy\n",
            "  df_LA['year'] = df_LA['Start_Time'].dt.year\n",
            "<ipython-input-435-281d99e2b003>:6: SettingWithCopyWarning: \n",
            "A value is trying to be set on a copy of a slice from a DataFrame.\n",
            "Try using .loc[row_indexer,col_indexer] = value instead\n",
            "\n",
            "See the caveats in the documentation: https://pandas.pydata.org/pandas-docs/stable/user_guide/indexing.html#returning-a-view-versus-a-copy\n",
            "  df_LA['year_month_day'] = df_LA['year'].astype(str) + '-' + df_LA['month'].astype(str)+ '-' + df_LA['day'].astype(str)\n"
          ]
        }
      ]
    },
    {
      "cell_type": "code",
      "source": [
        "df_LA['year_month_day']"
      ],
      "metadata": {
        "id": "1babl65mtiJB",
        "colab": {
          "base_uri": "https://localhost:8080/"
        },
        "outputId": "51aa0e5a-5e8b-4178-c0d1-5ebbf7e7f0f0"
      },
      "execution_count": null,
      "outputs": [
        {
          "output_type": "execute_result",
          "data": {
            "text/plain": [
              "2357355    2019-12-31\n",
              "2363537    2019-12-22\n",
              "2363563    2019-12-22\n",
              "2363581    2019-12-22\n",
              "2363654    2019-12-22\n",
              "              ...    \n",
              "2837594      2019-8-6\n",
              "2838091      2019-8-7\n",
              "2840707     2019-8-13\n",
              "2842333     2019-8-16\n",
              "2843308     2019-8-19\n",
              "Name: year_month_day, Length: 1920, dtype: object"
            ]
          },
          "metadata": {},
          "execution_count": 436
        }
      ]
    },
    {
      "cell_type": "code",
      "source": [
        "# Group the data by day\n",
        "grouped_data = df_LA.groupby(by=['year_month_day'])\n",
        "\n",
        "# Calculate the number of accidents per day\n",
        "accidents_per_day = grouped_data['ID'].count()"
      ],
      "metadata": {
        "id": "3d01AoaN2JoL"
      },
      "execution_count": null,
      "outputs": []
    },
    {
      "cell_type": "code",
      "source": [
        "accidents_per_day"
      ],
      "metadata": {
        "colab": {
          "base_uri": "https://localhost:8080/"
        },
        "id": "b6P8f2VZtz3M",
        "outputId": "d0bccd97-213b-4721-ecb0-5b60712e0d36"
      },
      "execution_count": null,
      "outputs": [
        {
          "output_type": "execute_result",
          "data": {
            "text/plain": [
              "year_month_day\n",
              "2019-10-1     16\n",
              "2019-10-10    18\n",
              "2019-10-11    14\n",
              "2019-10-12    19\n",
              "2019-10-13    15\n",
              "              ..\n",
              "2019-9-5      12\n",
              "2019-9-6      16\n",
              "2019-9-7      17\n",
              "2019-9-8       8\n",
              "2019-9-9      11\n",
              "Name: ID, Length: 172, dtype: int64"
            ]
          },
          "metadata": {},
          "execution_count": 438
        }
      ]
    },
    {
      "cell_type": "code",
      "source": [
        "# merge dataset to include weather for every day of the period under consideration\n",
        "merged_dataset = pd.merge(accidents_per_day, weather_data_LA, how='right', left_on=['year_month_day'], right_on=['DATE'])"
      ],
      "metadata": {
        "id": "JhfIJxCQqvoY"
      },
      "execution_count": null,
      "outputs": []
    },
    {
      "cell_type": "code",
      "source": [
        "merged_dataset.head()"
      ],
      "metadata": {
        "colab": {
          "base_uri": "https://localhost:8080/",
          "height": 204
        },
        "id": "ZXDbK_pnufNJ",
        "outputId": "19d84d04-35c4-4660-cff5-378e656eed6e"
      },
      "execution_count": null,
      "outputs": [
        {
          "output_type": "execute_result",
          "data": {
            "text/plain": [
              "   ID      STATION        DATE  AWND  PRCP  TMAX  TMIN  WT01  WT08\n",
              "0 NaN  USW00093134  2017-01-01  1.12  0.00    62    43   1.0   1.0\n",
              "1 NaN  USW00093134  2017-01-02  1.79  0.00    58    51   NaN   NaN\n",
              "2 NaN  USW00093134  2017-01-03  0.00  0.00    60    48   NaN   NaN\n",
              "3 NaN  USW00093134  2017-01-04  1.12  0.03    63    47   1.0   1.0\n",
              "4 NaN  USW00093134  2017-01-05  3.80  0.39    65    54   1.0   NaN"
            ],
            "text/html": [
              "\n",
              "  <div id=\"df-0d0f8837-9beb-48bb-9368-21f31f842ecf\">\n",
              "    <div class=\"colab-df-container\">\n",
              "      <div>\n",
              "<style scoped>\n",
              "    .dataframe tbody tr th:only-of-type {\n",
              "        vertical-align: middle;\n",
              "    }\n",
              "\n",
              "    .dataframe tbody tr th {\n",
              "        vertical-align: top;\n",
              "    }\n",
              "\n",
              "    .dataframe thead th {\n",
              "        text-align: right;\n",
              "    }\n",
              "</style>\n",
              "<table border=\"1\" class=\"dataframe\">\n",
              "  <thead>\n",
              "    <tr style=\"text-align: right;\">\n",
              "      <th></th>\n",
              "      <th>ID</th>\n",
              "      <th>STATION</th>\n",
              "      <th>DATE</th>\n",
              "      <th>AWND</th>\n",
              "      <th>PRCP</th>\n",
              "      <th>TMAX</th>\n",
              "      <th>TMIN</th>\n",
              "      <th>WT01</th>\n",
              "      <th>WT08</th>\n",
              "    </tr>\n",
              "  </thead>\n",
              "  <tbody>\n",
              "    <tr>\n",
              "      <th>0</th>\n",
              "      <td>NaN</td>\n",
              "      <td>USW00093134</td>\n",
              "      <td>2017-01-01</td>\n",
              "      <td>1.12</td>\n",
              "      <td>0.00</td>\n",
              "      <td>62</td>\n",
              "      <td>43</td>\n",
              "      <td>1.0</td>\n",
              "      <td>1.0</td>\n",
              "    </tr>\n",
              "    <tr>\n",
              "      <th>1</th>\n",
              "      <td>NaN</td>\n",
              "      <td>USW00093134</td>\n",
              "      <td>2017-01-02</td>\n",
              "      <td>1.79</td>\n",
              "      <td>0.00</td>\n",
              "      <td>58</td>\n",
              "      <td>51</td>\n",
              "      <td>NaN</td>\n",
              "      <td>NaN</td>\n",
              "    </tr>\n",
              "    <tr>\n",
              "      <th>2</th>\n",
              "      <td>NaN</td>\n",
              "      <td>USW00093134</td>\n",
              "      <td>2017-01-03</td>\n",
              "      <td>0.00</td>\n",
              "      <td>0.00</td>\n",
              "      <td>60</td>\n",
              "      <td>48</td>\n",
              "      <td>NaN</td>\n",
              "      <td>NaN</td>\n",
              "    </tr>\n",
              "    <tr>\n",
              "      <th>3</th>\n",
              "      <td>NaN</td>\n",
              "      <td>USW00093134</td>\n",
              "      <td>2017-01-04</td>\n",
              "      <td>1.12</td>\n",
              "      <td>0.03</td>\n",
              "      <td>63</td>\n",
              "      <td>47</td>\n",
              "      <td>1.0</td>\n",
              "      <td>1.0</td>\n",
              "    </tr>\n",
              "    <tr>\n",
              "      <th>4</th>\n",
              "      <td>NaN</td>\n",
              "      <td>USW00093134</td>\n",
              "      <td>2017-01-05</td>\n",
              "      <td>3.80</td>\n",
              "      <td>0.39</td>\n",
              "      <td>65</td>\n",
              "      <td>54</td>\n",
              "      <td>1.0</td>\n",
              "      <td>NaN</td>\n",
              "    </tr>\n",
              "  </tbody>\n",
              "</table>\n",
              "</div>\n",
              "      <button class=\"colab-df-convert\" onclick=\"convertToInteractive('df-0d0f8837-9beb-48bb-9368-21f31f842ecf')\"\n",
              "              title=\"Convert this dataframe to an interactive table.\"\n",
              "              style=\"display:none;\">\n",
              "        \n",
              "  <svg xmlns=\"http://www.w3.org/2000/svg\" height=\"24px\"viewBox=\"0 0 24 24\"\n",
              "       width=\"24px\">\n",
              "    <path d=\"M0 0h24v24H0V0z\" fill=\"none\"/>\n",
              "    <path d=\"M18.56 5.44l.94 2.06.94-2.06 2.06-.94-2.06-.94-.94-2.06-.94 2.06-2.06.94zm-11 1L8.5 8.5l.94-2.06 2.06-.94-2.06-.94L8.5 2.5l-.94 2.06-2.06.94zm10 10l.94 2.06.94-2.06 2.06-.94-2.06-.94-.94-2.06-.94 2.06-2.06.94z\"/><path d=\"M17.41 7.96l-1.37-1.37c-.4-.4-.92-.59-1.43-.59-.52 0-1.04.2-1.43.59L10.3 9.45l-7.72 7.72c-.78.78-.78 2.05 0 2.83L4 21.41c.39.39.9.59 1.41.59.51 0 1.02-.2 1.41-.59l7.78-7.78 2.81-2.81c.8-.78.8-2.07 0-2.86zM5.41 20L4 18.59l7.72-7.72 1.47 1.35L5.41 20z\"/>\n",
              "  </svg>\n",
              "      </button>\n",
              "      \n",
              "  <style>\n",
              "    .colab-df-container {\n",
              "      display:flex;\n",
              "      flex-wrap:wrap;\n",
              "      gap: 12px;\n",
              "    }\n",
              "\n",
              "    .colab-df-convert {\n",
              "      background-color: #E8F0FE;\n",
              "      border: none;\n",
              "      border-radius: 50%;\n",
              "      cursor: pointer;\n",
              "      display: none;\n",
              "      fill: #1967D2;\n",
              "      height: 32px;\n",
              "      padding: 0 0 0 0;\n",
              "      width: 32px;\n",
              "    }\n",
              "\n",
              "    .colab-df-convert:hover {\n",
              "      background-color: #E2EBFA;\n",
              "      box-shadow: 0px 1px 2px rgba(60, 64, 67, 0.3), 0px 1px 3px 1px rgba(60, 64, 67, 0.15);\n",
              "      fill: #174EA6;\n",
              "    }\n",
              "\n",
              "    [theme=dark] .colab-df-convert {\n",
              "      background-color: #3B4455;\n",
              "      fill: #D2E3FC;\n",
              "    }\n",
              "\n",
              "    [theme=dark] .colab-df-convert:hover {\n",
              "      background-color: #434B5C;\n",
              "      box-shadow: 0px 1px 3px 1px rgba(0, 0, 0, 0.15);\n",
              "      filter: drop-shadow(0px 1px 2px rgba(0, 0, 0, 0.3));\n",
              "      fill: #FFFFFF;\n",
              "    }\n",
              "  </style>\n",
              "\n",
              "      <script>\n",
              "        const buttonEl =\n",
              "          document.querySelector('#df-0d0f8837-9beb-48bb-9368-21f31f842ecf button.colab-df-convert');\n",
              "        buttonEl.style.display =\n",
              "          google.colab.kernel.accessAllowed ? 'block' : 'none';\n",
              "\n",
              "        async function convertToInteractive(key) {\n",
              "          const element = document.querySelector('#df-0d0f8837-9beb-48bb-9368-21f31f842ecf');\n",
              "          const dataTable =\n",
              "            await google.colab.kernel.invokeFunction('convertToInteractive',\n",
              "                                                     [key], {});\n",
              "          if (!dataTable) return;\n",
              "\n",
              "          const docLinkHtml = 'Like what you see? Visit the ' +\n",
              "            '<a target=\"_blank\" href=https://colab.research.google.com/notebooks/data_table.ipynb>data table notebook</a>'\n",
              "            + ' to learn more about interactive tables.';\n",
              "          element.innerHTML = '';\n",
              "          dataTable['output_type'] = 'display_data';\n",
              "          await google.colab.output.renderOutput(dataTable, element);\n",
              "          const docLink = document.createElement('div');\n",
              "          docLink.innerHTML = docLinkHtml;\n",
              "          element.appendChild(docLink);\n",
              "        }\n",
              "      </script>\n",
              "    </div>\n",
              "  </div>\n",
              "  "
            ]
          },
          "metadata": {},
          "execution_count": 440
        }
      ]
    },
    {
      "cell_type": "code",
      "source": [
        "merged_dataset.rename(columns = {'ID': 'accidents_per_day'}, inplace = True) "
      ],
      "metadata": {
        "id": "JUQKnI6-wlwK"
      },
      "execution_count": null,
      "outputs": []
    },
    {
      "cell_type": "code",
      "source": [
        "# replace nans with 0 for days without accidents and days without WT01 weather events\n",
        "df_mrg=merged_dataset.replace(np.nan,0) "
      ],
      "metadata": {
        "id": "rboVpJhowdCO"
      },
      "execution_count": null,
      "outputs": []
    },
    {
      "cell_type": "code",
      "source": [
        "df_mrg.head()"
      ],
      "metadata": {
        "colab": {
          "base_uri": "https://localhost:8080/",
          "height": 204
        },
        "id": "XPEpKTMwxLAN",
        "outputId": "9f836e39-7e3a-45d4-b44f-5ce7e1fedc9b"
      },
      "execution_count": null,
      "outputs": [
        {
          "output_type": "execute_result",
          "data": {
            "text/plain": [
              "   accidents_per_day      STATION        DATE  AWND  PRCP  TMAX  TMIN  WT01  \\\n",
              "0                0.0  USW00093134  2017-01-01  1.12  0.00    62    43   1.0   \n",
              "1                0.0  USW00093134  2017-01-02  1.79  0.00    58    51   0.0   \n",
              "2                0.0  USW00093134  2017-01-03  0.00  0.00    60    48   0.0   \n",
              "3                0.0  USW00093134  2017-01-04  1.12  0.03    63    47   1.0   \n",
              "4                0.0  USW00093134  2017-01-05  3.80  0.39    65    54   1.0   \n",
              "\n",
              "   WT08  \n",
              "0   1.0  \n",
              "1   0.0  \n",
              "2   0.0  \n",
              "3   1.0  \n",
              "4   0.0  "
            ],
            "text/html": [
              "\n",
              "  <div id=\"df-1d33568a-3b1a-40c4-83ef-76c0af250205\">\n",
              "    <div class=\"colab-df-container\">\n",
              "      <div>\n",
              "<style scoped>\n",
              "    .dataframe tbody tr th:only-of-type {\n",
              "        vertical-align: middle;\n",
              "    }\n",
              "\n",
              "    .dataframe tbody tr th {\n",
              "        vertical-align: top;\n",
              "    }\n",
              "\n",
              "    .dataframe thead th {\n",
              "        text-align: right;\n",
              "    }\n",
              "</style>\n",
              "<table border=\"1\" class=\"dataframe\">\n",
              "  <thead>\n",
              "    <tr style=\"text-align: right;\">\n",
              "      <th></th>\n",
              "      <th>accidents_per_day</th>\n",
              "      <th>STATION</th>\n",
              "      <th>DATE</th>\n",
              "      <th>AWND</th>\n",
              "      <th>PRCP</th>\n",
              "      <th>TMAX</th>\n",
              "      <th>TMIN</th>\n",
              "      <th>WT01</th>\n",
              "      <th>WT08</th>\n",
              "    </tr>\n",
              "  </thead>\n",
              "  <tbody>\n",
              "    <tr>\n",
              "      <th>0</th>\n",
              "      <td>0.0</td>\n",
              "      <td>USW00093134</td>\n",
              "      <td>2017-01-01</td>\n",
              "      <td>1.12</td>\n",
              "      <td>0.00</td>\n",
              "      <td>62</td>\n",
              "      <td>43</td>\n",
              "      <td>1.0</td>\n",
              "      <td>1.0</td>\n",
              "    </tr>\n",
              "    <tr>\n",
              "      <th>1</th>\n",
              "      <td>0.0</td>\n",
              "      <td>USW00093134</td>\n",
              "      <td>2017-01-02</td>\n",
              "      <td>1.79</td>\n",
              "      <td>0.00</td>\n",
              "      <td>58</td>\n",
              "      <td>51</td>\n",
              "      <td>0.0</td>\n",
              "      <td>0.0</td>\n",
              "    </tr>\n",
              "    <tr>\n",
              "      <th>2</th>\n",
              "      <td>0.0</td>\n",
              "      <td>USW00093134</td>\n",
              "      <td>2017-01-03</td>\n",
              "      <td>0.00</td>\n",
              "      <td>0.00</td>\n",
              "      <td>60</td>\n",
              "      <td>48</td>\n",
              "      <td>0.0</td>\n",
              "      <td>0.0</td>\n",
              "    </tr>\n",
              "    <tr>\n",
              "      <th>3</th>\n",
              "      <td>0.0</td>\n",
              "      <td>USW00093134</td>\n",
              "      <td>2017-01-04</td>\n",
              "      <td>1.12</td>\n",
              "      <td>0.03</td>\n",
              "      <td>63</td>\n",
              "      <td>47</td>\n",
              "      <td>1.0</td>\n",
              "      <td>1.0</td>\n",
              "    </tr>\n",
              "    <tr>\n",
              "      <th>4</th>\n",
              "      <td>0.0</td>\n",
              "      <td>USW00093134</td>\n",
              "      <td>2017-01-05</td>\n",
              "      <td>3.80</td>\n",
              "      <td>0.39</td>\n",
              "      <td>65</td>\n",
              "      <td>54</td>\n",
              "      <td>1.0</td>\n",
              "      <td>0.0</td>\n",
              "    </tr>\n",
              "  </tbody>\n",
              "</table>\n",
              "</div>\n",
              "      <button class=\"colab-df-convert\" onclick=\"convertToInteractive('df-1d33568a-3b1a-40c4-83ef-76c0af250205')\"\n",
              "              title=\"Convert this dataframe to an interactive table.\"\n",
              "              style=\"display:none;\">\n",
              "        \n",
              "  <svg xmlns=\"http://www.w3.org/2000/svg\" height=\"24px\"viewBox=\"0 0 24 24\"\n",
              "       width=\"24px\">\n",
              "    <path d=\"M0 0h24v24H0V0z\" fill=\"none\"/>\n",
              "    <path d=\"M18.56 5.44l.94 2.06.94-2.06 2.06-.94-2.06-.94-.94-2.06-.94 2.06-2.06.94zm-11 1L8.5 8.5l.94-2.06 2.06-.94-2.06-.94L8.5 2.5l-.94 2.06-2.06.94zm10 10l.94 2.06.94-2.06 2.06-.94-2.06-.94-.94-2.06-.94 2.06-2.06.94z\"/><path d=\"M17.41 7.96l-1.37-1.37c-.4-.4-.92-.59-1.43-.59-.52 0-1.04.2-1.43.59L10.3 9.45l-7.72 7.72c-.78.78-.78 2.05 0 2.83L4 21.41c.39.39.9.59 1.41.59.51 0 1.02-.2 1.41-.59l7.78-7.78 2.81-2.81c.8-.78.8-2.07 0-2.86zM5.41 20L4 18.59l7.72-7.72 1.47 1.35L5.41 20z\"/>\n",
              "  </svg>\n",
              "      </button>\n",
              "      \n",
              "  <style>\n",
              "    .colab-df-container {\n",
              "      display:flex;\n",
              "      flex-wrap:wrap;\n",
              "      gap: 12px;\n",
              "    }\n",
              "\n",
              "    .colab-df-convert {\n",
              "      background-color: #E8F0FE;\n",
              "      border: none;\n",
              "      border-radius: 50%;\n",
              "      cursor: pointer;\n",
              "      display: none;\n",
              "      fill: #1967D2;\n",
              "      height: 32px;\n",
              "      padding: 0 0 0 0;\n",
              "      width: 32px;\n",
              "    }\n",
              "\n",
              "    .colab-df-convert:hover {\n",
              "      background-color: #E2EBFA;\n",
              "      box-shadow: 0px 1px 2px rgba(60, 64, 67, 0.3), 0px 1px 3px 1px rgba(60, 64, 67, 0.15);\n",
              "      fill: #174EA6;\n",
              "    }\n",
              "\n",
              "    [theme=dark] .colab-df-convert {\n",
              "      background-color: #3B4455;\n",
              "      fill: #D2E3FC;\n",
              "    }\n",
              "\n",
              "    [theme=dark] .colab-df-convert:hover {\n",
              "      background-color: #434B5C;\n",
              "      box-shadow: 0px 1px 3px 1px rgba(0, 0, 0, 0.15);\n",
              "      filter: drop-shadow(0px 1px 2px rgba(0, 0, 0, 0.3));\n",
              "      fill: #FFFFFF;\n",
              "    }\n",
              "  </style>\n",
              "\n",
              "      <script>\n",
              "        const buttonEl =\n",
              "          document.querySelector('#df-1d33568a-3b1a-40c4-83ef-76c0af250205 button.colab-df-convert');\n",
              "        buttonEl.style.display =\n",
              "          google.colab.kernel.accessAllowed ? 'block' : 'none';\n",
              "\n",
              "        async function convertToInteractive(key) {\n",
              "          const element = document.querySelector('#df-1d33568a-3b1a-40c4-83ef-76c0af250205');\n",
              "          const dataTable =\n",
              "            await google.colab.kernel.invokeFunction('convertToInteractive',\n",
              "                                                     [key], {});\n",
              "          if (!dataTable) return;\n",
              "\n",
              "          const docLinkHtml = 'Like what you see? Visit the ' +\n",
              "            '<a target=\"_blank\" href=https://colab.research.google.com/notebooks/data_table.ipynb>data table notebook</a>'\n",
              "            + ' to learn more about interactive tables.';\n",
              "          element.innerHTML = '';\n",
              "          dataTable['output_type'] = 'display_data';\n",
              "          await google.colab.output.renderOutput(dataTable, element);\n",
              "          const docLink = document.createElement('div');\n",
              "          docLink.innerHTML = docLinkHtml;\n",
              "          element.appendChild(docLink);\n",
              "        }\n",
              "      </script>\n",
              "    </div>\n",
              "  </div>\n",
              "  "
            ]
          },
          "metadata": {},
          "execution_count": 443
        }
      ]
    },
    {
      "cell_type": "code",
      "source": [
        "#assign variables for the regression\n",
        "y=df_mrg['accidents_per_day']\n",
        "\n",
        "X=df_mrg['TMAX']\n",
        "\n",
        "t=df_mrg['DATE']"
      ],
      "metadata": {
        "id": "dV2ntrCK25Wc"
      },
      "execution_count": null,
      "outputs": []
    },
    {
      "cell_type": "code",
      "source": [
        "y"
      ],
      "metadata": {
        "colab": {
          "base_uri": "https://localhost:8080/"
        },
        "id": "J2NSNL3l3leZ",
        "outputId": "a0826c4f-7cbb-4f49-cafb-53c369142515"
      },
      "execution_count": null,
      "outputs": [
        {
          "output_type": "execute_result",
          "data": {
            "text/plain": [
              "0        0.0\n",
              "1        0.0\n",
              "2        0.0\n",
              "3        0.0\n",
              "4        0.0\n",
              "        ... \n",
              "1090    12.0\n",
              "1091     7.0\n",
              "1092    14.0\n",
              "1093    13.0\n",
              "1094    13.0\n",
              "Name: accidents_per_day, Length: 1095, dtype: float64"
            ]
          },
          "metadata": {},
          "execution_count": 445
        }
      ]
    },
    {
      "cell_type": "code",
      "source": [
        "X"
      ],
      "metadata": {
        "colab": {
          "base_uri": "https://localhost:8080/"
        },
        "id": "_Ct9IkSk3N6n",
        "outputId": "89d6ac4f-df1a-47fb-e852-91c199f9d13a"
      },
      "execution_count": null,
      "outputs": [
        {
          "output_type": "execute_result",
          "data": {
            "text/plain": [
              "0       62\n",
              "1       58\n",
              "2       60\n",
              "3       63\n",
              "4       65\n",
              "        ..\n",
              "1090    66\n",
              "1091    64\n",
              "1092    63\n",
              "1093    66\n",
              "1094    75\n",
              "Name: TMAX, Length: 1095, dtype: int64"
            ]
          },
          "metadata": {},
          "execution_count": 446
        }
      ]
    },
    {
      "cell_type": "code",
      "source": [
        "t"
      ],
      "metadata": {
        "colab": {
          "base_uri": "https://localhost:8080/"
        },
        "id": "hGXrxUAcij4v",
        "outputId": "c1653d46-39fe-4326-fd07-b223fc69c1fe"
      },
      "execution_count": null,
      "outputs": [
        {
          "output_type": "execute_result",
          "data": {
            "text/plain": [
              "0       2017-01-01\n",
              "1       2017-01-02\n",
              "2       2017-01-03\n",
              "3       2017-01-04\n",
              "4       2017-01-05\n",
              "           ...    \n",
              "1090    2019-12-27\n",
              "1091    2019-12-28\n",
              "1092    2019-12-29\n",
              "1093    2019-12-30\n",
              "1094    2019-12-31\n",
              "Name: DATE, Length: 1095, dtype: object"
            ]
          },
          "metadata": {},
          "execution_count": 447
        }
      ]
    },
    {
      "cell_type": "markdown",
      "source": [
        "#Regression Model"
      ],
      "metadata": {
        "id": "QbEg6lqH3byC"
      }
    },
    {
      "cell_type": "code",
      "source": [
        "#Assign independent variables\n",
        "\n",
        "TMIN=df_mrg['TMIN']\n",
        "WT01=df_mrg['WT01']\n",
        "WT08=df_mrg['WT08']\n",
        "PRCP=df_mrg['PRCP']\n",
        "\n",
        "X=pd.DataFrame({'TMIN':TMIN, 'PRCP':PRCP, 'Fog':WT01, 'Smoke_haze':WT08})"
      ],
      "metadata": {
        "id": "VmJdOQf445qv"
      },
      "execution_count": null,
      "outputs": []
    },
    {
      "cell_type": "code",
      "source": [
        "# adding constant\n",
        "X = sm.add_constant(X)\n",
        "X.head()"
      ],
      "metadata": {
        "colab": {
          "base_uri": "https://localhost:8080/",
          "height": 258
        },
        "id": "R0CDy5TC3SGN",
        "outputId": "109480b7-a873-48e6-a241-d7c6fced77e8"
      },
      "execution_count": null,
      "outputs": [
        {
          "output_type": "stream",
          "name": "stderr",
          "text": [
            "/usr/local/lib/python3.8/dist-packages/statsmodels/tsa/tsatools.py:142: FutureWarning: In a future version of pandas all arguments of concat except for the argument 'objs' will be keyword-only\n",
            "  x = pd.concat(x[::order], 1)\n"
          ]
        },
        {
          "output_type": "execute_result",
          "data": {
            "text/plain": [
              "   const  TMIN  PRCP  Fog  Smoke_haze\n",
              "0    1.0    43  0.00  1.0         1.0\n",
              "1    1.0    51  0.00  0.0         0.0\n",
              "2    1.0    48  0.00  0.0         0.0\n",
              "3    1.0    47  0.03  1.0         1.0\n",
              "4    1.0    54  0.39  1.0         0.0"
            ],
            "text/html": [
              "\n",
              "  <div id=\"df-59d4425a-9c69-4ece-bdde-38af204d0eb0\">\n",
              "    <div class=\"colab-df-container\">\n",
              "      <div>\n",
              "<style scoped>\n",
              "    .dataframe tbody tr th:only-of-type {\n",
              "        vertical-align: middle;\n",
              "    }\n",
              "\n",
              "    .dataframe tbody tr th {\n",
              "        vertical-align: top;\n",
              "    }\n",
              "\n",
              "    .dataframe thead th {\n",
              "        text-align: right;\n",
              "    }\n",
              "</style>\n",
              "<table border=\"1\" class=\"dataframe\">\n",
              "  <thead>\n",
              "    <tr style=\"text-align: right;\">\n",
              "      <th></th>\n",
              "      <th>const</th>\n",
              "      <th>TMIN</th>\n",
              "      <th>PRCP</th>\n",
              "      <th>Fog</th>\n",
              "      <th>Smoke_haze</th>\n",
              "    </tr>\n",
              "  </thead>\n",
              "  <tbody>\n",
              "    <tr>\n",
              "      <th>0</th>\n",
              "      <td>1.0</td>\n",
              "      <td>43</td>\n",
              "      <td>0.00</td>\n",
              "      <td>1.0</td>\n",
              "      <td>1.0</td>\n",
              "    </tr>\n",
              "    <tr>\n",
              "      <th>1</th>\n",
              "      <td>1.0</td>\n",
              "      <td>51</td>\n",
              "      <td>0.00</td>\n",
              "      <td>0.0</td>\n",
              "      <td>0.0</td>\n",
              "    </tr>\n",
              "    <tr>\n",
              "      <th>2</th>\n",
              "      <td>1.0</td>\n",
              "      <td>48</td>\n",
              "      <td>0.00</td>\n",
              "      <td>0.0</td>\n",
              "      <td>0.0</td>\n",
              "    </tr>\n",
              "    <tr>\n",
              "      <th>3</th>\n",
              "      <td>1.0</td>\n",
              "      <td>47</td>\n",
              "      <td>0.03</td>\n",
              "      <td>1.0</td>\n",
              "      <td>1.0</td>\n",
              "    </tr>\n",
              "    <tr>\n",
              "      <th>4</th>\n",
              "      <td>1.0</td>\n",
              "      <td>54</td>\n",
              "      <td>0.39</td>\n",
              "      <td>1.0</td>\n",
              "      <td>0.0</td>\n",
              "    </tr>\n",
              "  </tbody>\n",
              "</table>\n",
              "</div>\n",
              "      <button class=\"colab-df-convert\" onclick=\"convertToInteractive('df-59d4425a-9c69-4ece-bdde-38af204d0eb0')\"\n",
              "              title=\"Convert this dataframe to an interactive table.\"\n",
              "              style=\"display:none;\">\n",
              "        \n",
              "  <svg xmlns=\"http://www.w3.org/2000/svg\" height=\"24px\"viewBox=\"0 0 24 24\"\n",
              "       width=\"24px\">\n",
              "    <path d=\"M0 0h24v24H0V0z\" fill=\"none\"/>\n",
              "    <path d=\"M18.56 5.44l.94 2.06.94-2.06 2.06-.94-2.06-.94-.94-2.06-.94 2.06-2.06.94zm-11 1L8.5 8.5l.94-2.06 2.06-.94-2.06-.94L8.5 2.5l-.94 2.06-2.06.94zm10 10l.94 2.06.94-2.06 2.06-.94-2.06-.94-.94-2.06-.94 2.06-2.06.94z\"/><path d=\"M17.41 7.96l-1.37-1.37c-.4-.4-.92-.59-1.43-.59-.52 0-1.04.2-1.43.59L10.3 9.45l-7.72 7.72c-.78.78-.78 2.05 0 2.83L4 21.41c.39.39.9.59 1.41.59.51 0 1.02-.2 1.41-.59l7.78-7.78 2.81-2.81c.8-.78.8-2.07 0-2.86zM5.41 20L4 18.59l7.72-7.72 1.47 1.35L5.41 20z\"/>\n",
              "  </svg>\n",
              "      </button>\n",
              "      \n",
              "  <style>\n",
              "    .colab-df-container {\n",
              "      display:flex;\n",
              "      flex-wrap:wrap;\n",
              "      gap: 12px;\n",
              "    }\n",
              "\n",
              "    .colab-df-convert {\n",
              "      background-color: #E8F0FE;\n",
              "      border: none;\n",
              "      border-radius: 50%;\n",
              "      cursor: pointer;\n",
              "      display: none;\n",
              "      fill: #1967D2;\n",
              "      height: 32px;\n",
              "      padding: 0 0 0 0;\n",
              "      width: 32px;\n",
              "    }\n",
              "\n",
              "    .colab-df-convert:hover {\n",
              "      background-color: #E2EBFA;\n",
              "      box-shadow: 0px 1px 2px rgba(60, 64, 67, 0.3), 0px 1px 3px 1px rgba(60, 64, 67, 0.15);\n",
              "      fill: #174EA6;\n",
              "    }\n",
              "\n",
              "    [theme=dark] .colab-df-convert {\n",
              "      background-color: #3B4455;\n",
              "      fill: #D2E3FC;\n",
              "    }\n",
              "\n",
              "    [theme=dark] .colab-df-convert:hover {\n",
              "      background-color: #434B5C;\n",
              "      box-shadow: 0px 1px 3px 1px rgba(0, 0, 0, 0.15);\n",
              "      filter: drop-shadow(0px 1px 2px rgba(0, 0, 0, 0.3));\n",
              "      fill: #FFFFFF;\n",
              "    }\n",
              "  </style>\n",
              "\n",
              "      <script>\n",
              "        const buttonEl =\n",
              "          document.querySelector('#df-59d4425a-9c69-4ece-bdde-38af204d0eb0 button.colab-df-convert');\n",
              "        buttonEl.style.display =\n",
              "          google.colab.kernel.accessAllowed ? 'block' : 'none';\n",
              "\n",
              "        async function convertToInteractive(key) {\n",
              "          const element = document.querySelector('#df-59d4425a-9c69-4ece-bdde-38af204d0eb0');\n",
              "          const dataTable =\n",
              "            await google.colab.kernel.invokeFunction('convertToInteractive',\n",
              "                                                     [key], {});\n",
              "          if (!dataTable) return;\n",
              "\n",
              "          const docLinkHtml = 'Like what you see? Visit the ' +\n",
              "            '<a target=\"_blank\" href=https://colab.research.google.com/notebooks/data_table.ipynb>data table notebook</a>'\n",
              "            + ' to learn more about interactive tables.';\n",
              "          element.innerHTML = '';\n",
              "          dataTable['output_type'] = 'display_data';\n",
              "          await google.colab.output.renderOutput(dataTable, element);\n",
              "          const docLink = document.createElement('div');\n",
              "          docLink.innerHTML = docLinkHtml;\n",
              "          element.appendChild(docLink);\n",
              "        }\n",
              "      </script>\n",
              "    </div>\n",
              "  </div>\n",
              "  "
            ]
          },
          "metadata": {},
          "execution_count": 449
        }
      ]
    },
    {
      "cell_type": "code",
      "source": [
        "model = sm.OLS(y.astype(float), X.astype(float))\n",
        "results = model.fit()\n",
        "print(results.summary())"
      ],
      "metadata": {
        "colab": {
          "base_uri": "https://localhost:8080/"
        },
        "id": "XKQ6V0o48cSO",
        "outputId": "bc59dadc-59e5-4f0c-a7f8-7cb5efec2ce5"
      },
      "execution_count": null,
      "outputs": [
        {
          "output_type": "stream",
          "name": "stdout",
          "text": [
            "                            OLS Regression Results                            \n",
            "==============================================================================\n",
            "Dep. Variable:      accidents_per_day   R-squared:                       0.020\n",
            "Model:                            OLS   Adj. R-squared:                  0.016\n",
            "Method:                 Least Squares   F-statistic:                     5.500\n",
            "Date:                Thu, 16 Feb 2023   Prob (F-statistic):           0.000220\n",
            "Time:                        00:06:42   Log-Likelihood:                -2931.8\n",
            "No. Observations:                1095   AIC:                             5874.\n",
            "Df Residuals:                    1090   BIC:                             5899.\n",
            "Df Model:                           4                                         \n",
            "Covariance Type:            nonrobust                                         \n",
            "==============================================================================\n",
            "                 coef    std err          t      P>|t|      [0.025      0.975]\n",
            "------------------------------------------------------------------------------\n",
            "const          2.8304      0.856      3.307      0.001       1.151       4.510\n",
            "TMIN          -0.0362      0.015     -2.481      0.013      -0.065      -0.008\n",
            "PRCP           1.2643      0.550      2.298      0.022       0.185       2.344\n",
            "Fog           -1.0395      0.264     -3.932      0.000      -1.558      -0.521\n",
            "Smoke_haze     0.6565      0.242      2.710      0.007       0.181       1.132\n",
            "==============================================================================\n",
            "Omnibus:                     1071.931   Durbin-Watson:                   0.239\n",
            "Prob(Omnibus):                  0.000   Jarque-Bera (JB):            30025.562\n",
            "Skew:                           4.842   Prob(JB):                         0.00\n",
            "Kurtosis:                      26.755   Cond. No.                         473.\n",
            "==============================================================================\n",
            "\n",
            "Notes:\n",
            "[1] Standard Errors assume that the covariance matrix of the errors is correctly specified.\n"
          ]
        }
      ]
    },
    {
      "cell_type": "markdown",
      "source": [
        "# Severity Prediction for California"
      ],
      "metadata": {
        "id": "l5Nx_YBSHl8N"
      }
    },
    {
      "cell_type": "code",
      "source": [
        "#filter the states to only include California\n",
        "df_ca = df_org[df_org['State'] == 'CA']"
      ],
      "metadata": {
        "id": "BXhJbRv-ka9K"
      },
      "execution_count": null,
      "outputs": []
    },
    {
      "cell_type": "code",
      "source": [
        "df_ca.Severity.value_counts().plot(kind='barh', title='Severity California')\n",
        "plt.show() "
      ],
      "metadata": {
        "colab": {
          "base_uri": "https://localhost:8080/",
          "height": 281
        },
        "id": "r5YT2b6ygvdw",
        "outputId": "9ce85cec-371d-4a88-c48a-ab714dde2707"
      },
      "execution_count": null,
      "outputs": [
        {
          "output_type": "display_data",
          "data": {
            "text/plain": [
              "<Figure size 432x288 with 1 Axes>"
            ],
            "image/png": "[encoded data removed]"
          },
          "metadata": {
            "needs_background": "light"
          }
        }
      ]
    },
    {
      "cell_type": "code",
      "source": [
        "# Removing features with no information content / less important features\n",
        "del df_ca['ID'] \n",
        "#del df_ca['Start_Time']\n",
        "del df_ca['End_Time']\n",
        "#del df_ca['City']\n",
        "del df_ca['End_Lat']\n",
        "del df_ca['End_Lng']\n",
        "del df_ca['Description']\n",
        "del df_ca['Number']\n",
        "del df_ca['Street']\n",
        "del df_ca['Side']\n",
        "del df_ca['County']\n",
        "del df_ca['State']\n",
        "del df_ca['Country']\n",
        "del df_ca['Timezone']\n",
        "del df_ca['Airport_Code']\n",
        "del df_ca['Weather_Timestamp']\n",
        "del df_ca['Civil_Twilight']\n",
        "del df_ca['Nautical_Twilight']\n",
        "del df_ca['Astronomical_Twilight']\n",
        "del df_ca['Turning_Loop']\n",
        "del df_ca['Zipcode']\n",
        "del df_ca['Station']\n",
        "del df_ca['Distance(mi)']"
      ],
      "metadata": {
        "id": "PWulWDKYjktZ"
      },
      "execution_count": null,
      "outputs": []
    },
    {
      "cell_type": "code",
      "source": [
        "# Converting Start_Time to a usable data format\n",
        "Start_Time_int = []\n",
        "\n",
        "#Loop through each value in the Start_Time variable\n",
        "for value in df_ca['Start_Time']:\n",
        "    #Split the string to remove the '.000000000'\n",
        "    value_split = value.split('.')\n",
        "    #Convert the value to a datetime object\n",
        "    datetime_object = datetime.datetime.strptime(value_split[0], '%Y-%m-%d %H:%M:%S')\n",
        "    #Add the unix timestamp of the datetime object to the new list\n",
        "    Start_Time_int.append(datetime_object.timestamp())\n",
        "\n",
        "#Replace the Start_Time variable with the new list of transformed values\n",
        "df_ca['Start_Time'] = Start_Time_int"
      ],
      "metadata": {
        "colab": {
          "base_uri": "https://localhost:8080/"
        },
        "id": "gYGAOcIEiRTh",
        "outputId": "24f0b94a-d4df-41e8-cfa9-b6595a5a63dc"
      },
      "execution_count": null,
      "outputs": [
        {
          "output_type": "stream",
          "name": "stderr",
          "text": [
            "<ipython-input-454-919af3d9fb9c>:14: SettingWithCopyWarning: \n",
            "A value is trying to be set on a copy of a slice from a DataFrame.\n",
            "Try using .loc[row_indexer,col_indexer] = value instead\n",
            "\n",
            "See the caveats in the documentation: https://pandas.pydata.org/pandas-docs/stable/user_guide/indexing.html#returning-a-view-versus-a-copy\n",
            "  df_ca['Start_Time'] = Start_Time_int\n"
          ]
        }
      ]
    },
    {
      "cell_type": "code",
      "source": [
        "df_ca.head()"
      ],
      "metadata": {
        "colab": {
          "base_uri": "https://localhost:8080/",
          "height": 382
        },
        "id": "BOibCE0Em1G5",
        "outputId": "c31e73ba-37f8-4811-db8f-3ef984c5dc14"
      },
      "execution_count": null,
      "outputs": [
        {
          "output_type": "execute_result",
          "data": {
            "text/plain": [
              "      Severity    Start_Time  Start_Lat  Start_Lng              City  \\\n",
              "2408         2  1.461330e+09   38.84685 -120.02881  South Lake Tahoe   \n",
              "2476         2  1.461513e+09   38.82653 -120.03011         Echo Lake   \n",
              "3092         2  1.462799e+09   35.52718 -121.04482           Cambria   \n",
              "3928         4  1.464193e+09   35.69116 -121.28950      Ragged Point   \n",
              "4603         4  1.465236e+09   35.72088 -118.49953   Wofford Heights   \n",
              "\n",
              "      Temperature(F)  Wind_Chill(F)  Humidity(%)  Pressure(in)  \\\n",
              "2408            33.1           27.7         92.0         29.77   \n",
              "2476            46.0           43.1         54.0         29.87   \n",
              "3092            71.0           71.0         53.0         29.75   \n",
              "3928            66.0           66.0         59.0         29.90   \n",
              "4603           101.0          101.0          8.0         27.28   \n",
              "\n",
              "      Visibility(mi)  ... Crossing  Give_Way  Junction No_Exit  Railway  \\\n",
              "2408             0.5  ...    False     False     False   False    False   \n",
              "2476            10.0  ...    False     False     False   False    False   \n",
              "3092            10.0  ...    False     False     False   False    False   \n",
              "3928            10.0  ...    False     False     False   False    False   \n",
              "4603            10.0  ...    False     False     False   False    False   \n",
              "\n",
              "      Roundabout   Stop  Traffic_Calming  Traffic_Signal  Sunrise_Sunset  \n",
              "2408       False  False            False           False             Day  \n",
              "2476       False  False            False           False             Day  \n",
              "3092       False  False            False           False             Day  \n",
              "3928       False  False            False           False             Day  \n",
              "4603       False  False            False           False             Day  \n",
              "\n",
              "[5 rows x 26 columns]"
            ],
            "text/html": [
              "\n",
              "  <div id=\"df-de90b37d-3939-48b3-bfc0-8034c911d2af\">\n",
              "    <div class=\"colab-df-container\">\n",
              "      <div>\n",
              "<style scoped>\n",
              "    .dataframe tbody tr th:only-of-type {\n",
              "        vertical-align: middle;\n",
              "    }\n",
              "\n",
              "    .dataframe tbody tr th {\n",
              "        vertical-align: top;\n",
              "    }\n",
              "\n",
              "    .dataframe thead th {\n",
              "        text-align: right;\n",
              "    }\n",
              "</style>\n",
              "<table border=\"1\" class=\"dataframe\">\n",
              "  <thead>\n",
              "    <tr style=\"text-align: right;\">\n",
              "      <th></th>\n",
              "      <th>Severity</th>\n",
              "      <th>Start_Time</th>\n",
              "      <th>Start_Lat</th>\n",
              "      <th>Start_Lng</th>\n",
              "      <th>City</th>\n",
              "      <th>Temperature(F)</th>\n",
              "      <th>Wind_Chill(F)</th>\n",
              "      <th>Humidity(%)</th>\n",
              "      <th>Pressure(in)</th>\n",
              "      <th>Visibility(mi)</th>\n",
              "      <th>...</th>\n",
              "      <th>Crossing</th>\n",
              "      <th>Give_Way</th>\n",
              "      <th>Junction</th>\n",
              "      <th>No_Exit</th>\n",
              "      <th>Railway</th>\n",
              "      <th>Roundabout</th>\n",
              "      <th>Stop</th>\n",
              "      <th>Traffic_Calming</th>\n",
              "      <th>Traffic_Signal</th>\n",
              "      <th>Sunrise_Sunset</th>\n",
              "    </tr>\n",
              "  </thead>\n",
              "  <tbody>\n",
              "    <tr>\n",
              "      <th>2408</th>\n",
              "      <td>2</td>\n",
              "      <td>1.461330e+09</td>\n",
              "      <td>38.84685</td>\n",
              "      <td>-120.02881</td>\n",
              "      <td>South Lake Tahoe</td>\n",
              "      <td>33.1</td>\n",
              "      <td>27.7</td>\n",
              "      <td>92.0</td>\n",
              "      <td>29.77</td>\n",
              "      <td>0.5</td>\n",
              "      <td>...</td>\n",
              "      <td>False</td>\n",
              "      <td>False</td>\n",
              "      <td>False</td>\n",
              "      <td>False</td>\n",
              "      <td>False</td>\n",
              "      <td>False</td>\n",
              "      <td>False</td>\n",
              "      <td>False</td>\n",
              "      <td>False</td>\n",
              "      <td>Day</td>\n",
              "    </tr>\n",
              "    <tr>\n",
              "      <th>2476</th>\n",
              "      <td>2</td>\n",
              "      <td>1.461513e+09</td>\n",
              "      <td>38.82653</td>\n",
              "      <td>-120.03011</td>\n",
              "      <td>Echo Lake</td>\n",
              "      <td>46.0</td>\n",
              "      <td>43.1</td>\n",
              "      <td>54.0</td>\n",
              "      <td>29.87</td>\n",
              "      <td>10.0</td>\n",
              "      <td>...</td>\n",
              "      <td>False</td>\n",
              "      <td>False</td>\n",
              "      <td>False</td>\n",
              "      <td>False</td>\n",
              "      <td>False</td>\n",
              "      <td>False</td>\n",
              "      <td>False</td>\n",
              "      <td>False</td>\n",
              "      <td>False</td>\n",
              "      <td>Day</td>\n",
              "    </tr>\n",
              "    <tr>\n",
              "      <th>3092</th>\n",
              "      <td>2</td>\n",
              "      <td>1.462799e+09</td>\n",
              "      <td>35.52718</td>\n",
              "      <td>-121.04482</td>\n",
              "      <td>Cambria</td>\n",
              "      <td>71.0</td>\n",
              "      <td>71.0</td>\n",
              "      <td>53.0</td>\n",
              "      <td>29.75</td>\n",
              "      <td>10.0</td>\n",
              "      <td>...</td>\n",
              "      <td>False</td>\n",
              "      <td>False</td>\n",
              "      <td>False</td>\n",
              "      <td>False</td>\n",
              "      <td>False</td>\n",
              "      <td>False</td>\n",
              "      <td>False</td>\n",
              "      <td>False</td>\n",
              "      <td>False</td>\n",
              "      <td>Day</td>\n",
              "    </tr>\n",
              "    <tr>\n",
              "      <th>3928</th>\n",
              "      <td>4</td>\n",
              "      <td>1.464193e+09</td>\n",
              "      <td>35.69116</td>\n",
              "      <td>-121.28950</td>\n",
              "      <td>Ragged Point</td>\n",
              "      <td>66.0</td>\n",
              "      <td>66.0</td>\n",
              "      <td>59.0</td>\n",
              "      <td>29.90</td>\n",
              "      <td>10.0</td>\n",
              "      <td>...</td>\n",
              "      <td>False</td>\n",
              "      <td>False</td>\n",
              "      <td>False</td>\n",
              "      <td>False</td>\n",
              "      <td>False</td>\n",
              "      <td>False</td>\n",
              "      <td>False</td>\n",
              "      <td>False</td>\n",
              "      <td>False</td>\n",
              "      <td>Day</td>\n",
              "    </tr>\n",
              "    <tr>\n",
              "      <th>4603</th>\n",
              "      <td>4</td>\n",
              "      <td>1.465236e+09</td>\n",
              "      <td>35.72088</td>\n",
              "      <td>-118.49953</td>\n",
              "      <td>Wofford Heights</td>\n",
              "      <td>101.0</td>\n",
              "      <td>101.0</td>\n",
              "      <td>8.0</td>\n",
              "      <td>27.28</td>\n",
              "      <td>10.0</td>\n",
              "      <td>...</td>\n",
              "      <td>False</td>\n",
              "      <td>False</td>\n",
              "      <td>False</td>\n",
              "      <td>False</td>\n",
              "      <td>False</td>\n",
              "      <td>False</td>\n",
              "      <td>False</td>\n",
              "      <td>False</td>\n",
              "      <td>False</td>\n",
              "      <td>Day</td>\n",
              "    </tr>\n",
              "  </tbody>\n",
              "</table>\n",
              "<p>5 rows × 26 columns</p>\n",
              "</div>\n",
              "      <button class=\"colab-df-convert\" onclick=\"convertToInteractive('df-de90b37d-3939-48b3-bfc0-8034c911d2af')\"\n",
              "              title=\"Convert this dataframe to an interactive table.\"\n",
              "              style=\"display:none;\">\n",
              "        \n",
              "  <svg xmlns=\"http://www.w3.org/2000/svg\" height=\"24px\"viewBox=\"0 0 24 24\"\n",
              "       width=\"24px\">\n",
              "    <path d=\"M0 0h24v24H0V0z\" fill=\"none\"/>\n",
              "    <path d=\"M18.56 5.44l.94 2.06.94-2.06 2.06-.94-2.06-.94-.94-2.06-.94 2.06-2.06.94zm-11 1L8.5 8.5l.94-2.06 2.06-.94-2.06-.94L8.5 2.5l-.94 2.06-2.06.94zm10 10l.94 2.06.94-2.06 2.06-.94-2.06-.94-.94-2.06-.94 2.06-2.06.94z\"/><path d=\"M17.41 7.96l-1.37-1.37c-.4-.4-.92-.59-1.43-.59-.52 0-1.04.2-1.43.59L10.3 9.45l-7.72 7.72c-.78.78-.78 2.05 0 2.83L4 21.41c.39.39.9.59 1.41.59.51 0 1.02-.2 1.41-.59l7.78-7.78 2.81-2.81c.8-.78.8-2.07 0-2.86zM5.41 20L4 18.59l7.72-7.72 1.47 1.35L5.41 20z\"/>\n",
              "  </svg>\n",
              "      </button>\n",
              "      \n",
              "  <style>\n",
              "    .colab-df-container {\n",
              "      display:flex;\n",
              "      flex-wrap:wrap;\n",
              "      gap: 12px;\n",
              "    }\n",
              "\n",
              "    .colab-df-convert {\n",
              "      background-color: #E8F0FE;\n",
              "      border: none;\n",
              "      border-radius: 50%;\n",
              "      cursor: pointer;\n",
              "      display: none;\n",
              "      fill: #1967D2;\n",
              "      height: 32px;\n",
              "      padding: 0 0 0 0;\n",
              "      width: 32px;\n",
              "    }\n",
              "\n",
              "    .colab-df-convert:hover {\n",
              "      background-color: #E2EBFA;\n",
              "      box-shadow: 0px 1px 2px rgba(60, 64, 67, 0.3), 0px 1px 3px 1px rgba(60, 64, 67, 0.15);\n",
              "      fill: #174EA6;\n",
              "    }\n",
              "\n",
              "    [theme=dark] .colab-df-convert {\n",
              "      background-color: #3B4455;\n",
              "      fill: #D2E3FC;\n",
              "    }\n",
              "\n",
              "    [theme=dark] .colab-df-convert:hover {\n",
              "      background-color: #434B5C;\n",
              "      box-shadow: 0px 1px 3px 1px rgba(0, 0, 0, 0.15);\n",
              "      filter: drop-shadow(0px 1px 2px rgba(0, 0, 0, 0.3));\n",
              "      fill: #FFFFFF;\n",
              "    }\n",
              "  </style>\n",
              "\n",
              "      <script>\n",
              "        const buttonEl =\n",
              "          document.querySelector('#df-de90b37d-3939-48b3-bfc0-8034c911d2af button.colab-df-convert');\n",
              "        buttonEl.style.display =\n",
              "          google.colab.kernel.accessAllowed ? 'block' : 'none';\n",
              "\n",
              "        async function convertToInteractive(key) {\n",
              "          const element = document.querySelector('#df-de90b37d-3939-48b3-bfc0-8034c911d2af');\n",
              "          const dataTable =\n",
              "            await google.colab.kernel.invokeFunction('convertToInteractive',\n",
              "                                                     [key], {});\n",
              "          if (!dataTable) return;\n",
              "\n",
              "          const docLinkHtml = 'Like what you see? Visit the ' +\n",
              "            '<a target=\"_blank\" href=https://colab.research.google.com/notebooks/data_table.ipynb>data table notebook</a>'\n",
              "            + ' to learn more about interactive tables.';\n",
              "          element.innerHTML = '';\n",
              "          dataTable['output_type'] = 'display_data';\n",
              "          await google.colab.output.renderOutput(dataTable, element);\n",
              "          const docLink = document.createElement('div');\n",
              "          docLink.innerHTML = docLinkHtml;\n",
              "          element.appendChild(docLink);\n",
              "        }\n",
              "      </script>\n",
              "    </div>\n",
              "  </div>\n",
              "  "
            ]
          },
          "metadata": {},
          "execution_count": 455
        }
      ]
    },
    {
      "cell_type": "code",
      "source": [
        "print('Number of NAN values: {}'.format(df_SF.Severity.isna().sum()))"
      ],
      "metadata": {
        "colab": {
          "base_uri": "https://localhost:8080/"
        },
        "id": "g922-Bt-pA1x",
        "outputId": "77733ec9-a4d2-4b92-b0cf-314d54d3b976"
      },
      "execution_count": null,
      "outputs": [
        {
          "output_type": "stream",
          "name": "stdout",
          "text": [
            "Number of NAN values: 0\n"
          ]
        }
      ]
    },
    {
      "cell_type": "code",
      "source": [
        "df_ca.Sunrise_Sunset = df_ca.Sunrise_Sunset.replace({'Day':1, 'Night':0}) # Replacing 'Day' and 'Night' with numerical values"
      ],
      "metadata": {
        "colab": {
          "base_uri": "https://localhost:8080/"
        },
        "id": "enmH4XBopMET",
        "outputId": "dccebb4a-73fd-471c-dfb5-da86df5573f3"
      },
      "execution_count": null,
      "outputs": [
        {
          "output_type": "stream",
          "name": "stderr",
          "text": [
            "/usr/local/lib/python3.8/dist-packages/pandas/core/generic.py:5516: SettingWithCopyWarning: \n",
            "A value is trying to be set on a copy of a slice from a DataFrame.\n",
            "Try using .loc[row_indexer,col_indexer] = value instead\n",
            "\n",
            "See the caveats in the documentation: https://pandas.pydata.org/pandas-docs/stable/user_guide/indexing.html#returning-a-view-versus-a-copy\n",
            "  self[name] = value\n"
          ]
        }
      ]
    },
    {
      "cell_type": "code",
      "source": [
        "df_ca.Severity.value_counts().plot(kind='barh', title='Severity CA')\n",
        "plt.show() "
      ],
      "metadata": {
        "colab": {
          "base_uri": "https://localhost:8080/",
          "height": 281
        },
        "id": "RJqVpUG8isPl",
        "outputId": "dd20fab8-5aff-44a8-f3b6-a660b57b2a3c"
      },
      "execution_count": null,
      "outputs": [
        {
          "output_type": "display_data",
          "data": {
            "text/plain": [
              "<Figure size 432x288 with 1 Axes>"
            ],
            "image/png": "[encoded data removed]"
          },
          "metadata": {
            "needs_background": "light"
          }
        }
      ]
    },
    {
      "cell_type": "code",
      "source": [
        "df_ca.Severity = df_ca.Severity.replace({1:0, 2:0, 3:1, 4:1}) # reducing Severity index"
      ],
      "metadata": {
        "id": "shu8M1VnqT_e"
      },
      "execution_count": null,
      "outputs": []
    },
    {
      "cell_type": "code",
      "source": [
        "df_ca.Severity.value_counts().plot(kind='barh', title='Severity CA')\n",
        "plt.show()"
      ],
      "metadata": {
        "colab": {
          "base_uri": "https://localhost:8080/",
          "height": 281
        },
        "id": "TcVyJmCkqowV",
        "outputId": "589cc3ee-5eb1-4c59-83ac-ed8c4b04c575"
      },
      "execution_count": null,
      "outputs": [
        {
          "output_type": "display_data",
          "data": {
            "text/plain": [
              "<Figure size 432x288 with 1 Axes>"
            ],
            "image/png": "[encoded data removed]"
          },
          "metadata": {
            "needs_background": "light"
          }
        }
      ]
    },
    {
      "cell_type": "code",
      "source": [
        "df_ca.Severity.value_counts()"
      ],
      "metadata": {
        "colab": {
          "base_uri": "https://localhost:8080/"
        },
        "id": "HEsZYzyggZ2a",
        "outputId": "cf5ccc57-2d9f-4e0a-f4ac-09b538ed9bee"
      },
      "execution_count": null,
      "outputs": [
        {
          "output_type": "execute_result",
          "data": {
            "text/plain": [
              "0    17707\n",
              "1      708\n",
              "Name: Severity, dtype: int64"
            ]
          },
          "metadata": {},
          "execution_count": 461
        }
      ]
    },
    {
      "cell_type": "markdown",
      "source": [
        "# Dealing with Unbalanced Data"
      ],
      "metadata": {
        "id": "gB5S0lzGkueX"
      }
    },
    {
      "cell_type": "code",
      "source": [
        "positive_labels = df_ca[df_ca.Severity==1]\n",
        "num_positive_labels = positive_labels.shape[0]\n",
        "num_positive_labels"
      ],
      "metadata": {
        "colab": {
          "base_uri": "https://localhost:8080/"
        },
        "id": "mp8ylxZmk1gd",
        "outputId": "6ec67c64-f1b6-4f6f-8546-6797357d494f"
      },
      "execution_count": null,
      "outputs": [
        {
          "output_type": "execute_result",
          "data": {
            "text/plain": [
              "708"
            ]
          },
          "metadata": {},
          "execution_count": 462
        }
      ]
    },
    {
      "cell_type": "code",
      "source": [
        "negative_labels = df_ca[df_ca.Severity==0].sample(num_positive_labels)\n",
        "negative_labels.shape"
      ],
      "metadata": {
        "colab": {
          "base_uri": "https://localhost:8080/"
        },
        "id": "Fn_-qequq17U",
        "outputId": "23ef221e-35e4-4465-853c-d773e5d0ac54"
      },
      "execution_count": null,
      "outputs": [
        {
          "output_type": "execute_result",
          "data": {
            "text/plain": [
              "(708, 26)"
            ]
          },
          "metadata": {},
          "execution_count": 463
        }
      ]
    },
    {
      "cell_type": "code",
      "source": [
        "df_ca_bal =  positive_labels.append(negative_labels)\n",
        "df_ca_bal.Severity.value_counts()"
      ],
      "metadata": {
        "colab": {
          "base_uri": "https://localhost:8080/"
        },
        "id": "7iopjGaiq9sQ",
        "outputId": "97fc156f-de31-4b26-8e40-2df3409f6350"
      },
      "execution_count": null,
      "outputs": [
        {
          "output_type": "execute_result",
          "data": {
            "text/plain": [
              "1    708\n",
              "0    708\n",
              "Name: Severity, dtype: int64"
            ]
          },
          "metadata": {},
          "execution_count": 464
        }
      ]
    },
    {
      "cell_type": "code",
      "source": [
        "df_ca_bal.Severity.value_counts().plot(kind='barh', title='Severity CA')\n",
        "plt.show()"
      ],
      "metadata": {
        "colab": {
          "base_uri": "https://localhost:8080/",
          "height": 281
        },
        "id": "bwHN-uAIf8e0",
        "outputId": "df8bd0a0-a9be-4f73-852b-8b713719f42e"
      },
      "execution_count": null,
      "outputs": [
        {
          "output_type": "display_data",
          "data": {
            "text/plain": [
              "<Figure size 432x288 with 1 Axes>"
            ],
            "image/png": "[encoded data removed]"
          },
          "metadata": {
            "needs_background": "light"
          }
        }
      ]
    },
    {
      "cell_type": "markdown",
      "source": [
        "# ML Models"
      ],
      "metadata": {
        "id": "s7jAMKZLgE_l"
      }
    },
    {
      "cell_type": "code",
      "source": [
        "y = df_ca_bal.pop('Severity') # Removing Severity field and storing it in variable y"
      ],
      "metadata": {
        "id": "RkMo-wuUrZts"
      },
      "execution_count": null,
      "outputs": []
    },
    {
      "cell_type": "code",
      "source": [
        "categorical_cols = df_ca_bal.columns[df_ca_bal.dtypes=='object'].tolist()\n",
        "categorical_cols"
      ],
      "metadata": {
        "colab": {
          "base_uri": "https://localhost:8080/"
        },
        "id": "CCEhnjHtri45",
        "outputId": "ca67e46a-e208-4bc2-b9eb-02b727a996b2"
      },
      "execution_count": null,
      "outputs": [
        {
          "output_type": "execute_result",
          "data": {
            "text/plain": [
              "['City', 'Wind_Direction', 'Weather_Condition']"
            ]
          },
          "metadata": {},
          "execution_count": 467
        }
      ]
    },
    {
      "cell_type": "code",
      "source": [
        "# Create dummy variables\n",
        "df_ca_bal = pd.get_dummies(data = df_ca_bal, columns=categorical_cols, drop_first=False)\n",
        "df_ca_bal"
      ],
      "metadata": {
        "colab": {
          "base_uri": "https://localhost:8080/",
          "height": 500
        },
        "id": "sgM0JR4Sr6eB",
        "outputId": "11bfec92-3b6c-40cc-dfee-6f449ae1a93f"
      },
      "execution_count": null,
      "outputs": [
        {
          "output_type": "execute_result",
          "data": {
            "text/plain": [
              "           Start_Time  Start_Lat   Start_Lng  Temperature(F)  Wind_Chill(F)  \\\n",
              "3928     1.464193e+09  35.691160 -121.289500            66.0           66.0   \n",
              "4603     1.465236e+09  35.720880 -118.499530           101.0          101.0   \n",
              "4604     1.465236e+09  35.720930 -118.499920           101.0          101.0   \n",
              "6582     1.460562e+09  34.436780 -118.372328            74.0           74.0   \n",
              "6584     1.460562e+09  34.432644 -118.383992            74.0           74.0   \n",
              "...               ...        ...         ...             ...            ...   \n",
              "2481291  1.567421e+09  38.502312 -121.432019            82.0           82.0   \n",
              "2420025  1.571252e+09  38.591279 -121.479478            65.0           65.0   \n",
              "2414288  1.570775e+09  34.521978 -118.097385            41.0           41.0   \n",
              "2435050  1.572160e+09  35.376234 -118.914164            53.0           53.0   \n",
              "2423157  1.571388e+09  33.942424 -117.243778            59.0           59.0   \n",
              "\n",
              "         Humidity(%)  Pressure(in)  Visibility(mi)  Wind_Speed(mph)  \\\n",
              "3928            59.0         29.90            10.0             20.0   \n",
              "4603             8.0         27.28            10.0             18.0   \n",
              "4604             8.0         27.28            10.0             18.0   \n",
              "6582            48.0         29.14            10.0              9.0   \n",
              "6584            48.0         29.14            10.0              9.0   \n",
              "...              ...           ...             ...              ...   \n",
              "2481291         44.0         29.90            10.0              0.0   \n",
              "2420025         50.0         29.82            10.0              8.0   \n",
              "2414288         20.0         27.48            10.0              3.0   \n",
              "2435050         57.0         29.21            10.0             13.0   \n",
              "2423157        100.0         28.31             7.0              3.0   \n",
              "\n",
              "         Precipitation(in)  ...  Weather_Condition_Mostly Cloudy  \\\n",
              "3928                   0.0  ...                                1   \n",
              "4603                   0.0  ...                                0   \n",
              "4604                   0.0  ...                                0   \n",
              "6582                   0.0  ...                                0   \n",
              "6584                   0.0  ...                                0   \n",
              "...                    ...  ...                              ...   \n",
              "2481291                0.0  ...                                0   \n",
              "2420025                0.0  ...                                0   \n",
              "2414288                0.0  ...                                0   \n",
              "2435050                0.0  ...                                0   \n",
              "2423157                0.0  ...                                0   \n",
              "\n",
              "         Weather_Condition_Mostly Cloudy / Windy  Weather_Condition_Overcast  \\\n",
              "3928                                           0                           0   \n",
              "4603                                           0                           0   \n",
              "4604                                           0                           0   \n",
              "6582                                           0                           0   \n",
              "6584                                           0                           0   \n",
              "...                                          ...                         ...   \n",
              "2481291                                        0                           0   \n",
              "2420025                                        0                           0   \n",
              "2414288                                        0                           0   \n",
              "2435050                                        0                           0   \n",
              "2423157                                        0                           0   \n",
              "\n",
              "         Weather_Condition_Partly Cloudy  \\\n",
              "3928                                   0   \n",
              "4603                                   1   \n",
              "4604                                   1   \n",
              "6582                                   0   \n",
              "6584                                   0   \n",
              "...                                  ...   \n",
              "2481291                                0   \n",
              "2420025                                0   \n",
              "2414288                                1   \n",
              "2435050                                0   \n",
              "2423157                                1   \n",
              "\n",
              "         Weather_Condition_Partly Cloudy / Windy  Weather_Condition_Rain  \\\n",
              "3928                                           0                       0   \n",
              "4603                                           0                       0   \n",
              "4604                                           0                       0   \n",
              "6582                                           0                       0   \n",
              "6584                                           0                       0   \n",
              "...                                          ...                     ...   \n",
              "2481291                                        0                       0   \n",
              "2420025                                        0                       0   \n",
              "2414288                                        0                       0   \n",
              "2435050                                        0                       0   \n",
              "2423157                                        0                       0   \n",
              "\n",
              "         Weather_Condition_Rain / Windy  Weather_Condition_Smoke  \\\n",
              "3928                                  0                        0   \n",
              "4603                                  0                        0   \n",
              "4604                                  0                        0   \n",
              "6582                                  0                        0   \n",
              "6584                                  0                        0   \n",
              "...                                 ...                      ...   \n",
              "2481291                               0                        0   \n",
              "2420025                               0                        0   \n",
              "2414288                               0                        0   \n",
              "2435050                               0                        0   \n",
              "2423157                               0                        0   \n",
              "\n",
              "         Weather_Condition_Snow  Weather_Condition_T-Storm  \n",
              "3928                          0                          0  \n",
              "4603                          0                          0  \n",
              "4604                          0                          0  \n",
              "6582                          0                          0  \n",
              "6584                          0                          0  \n",
              "...                         ...                        ...  \n",
              "2481291                       0                          0  \n",
              "2420025                       0                          0  \n",
              "2414288                       0                          0  \n",
              "2435050                       0                          0  \n",
              "2423157                       0                          0  \n",
              "\n",
              "[1416 rows x 452 columns]"
            ],
            "text/html": [
              "\n",
              "  <div id=\"df-6e3342c1-0b33-426f-a96f-a2f9f1a4bb59\">\n",
              "    <div class=\"colab-df-container\">\n",
              "      <div>\n",
              "<style scoped>\n",
              "    .dataframe tbody tr th:only-of-type {\n",
              "        vertical-align: middle;\n",
              "    }\n",
              "\n",
              "    .dataframe tbody tr th {\n",
              "        vertical-align: top;\n",
              "    }\n",
              "\n",
              "    .dataframe thead th {\n",
              "        text-align: right;\n",
              "    }\n",
              "</style>\n",
              "<table border=\"1\" class=\"dataframe\">\n",
              "  <thead>\n",
              "    <tr style=\"text-align: right;\">\n",
              "      <th></th>\n",
              "      <th>Start_Time</th>\n",
              "      <th>Start_Lat</th>\n",
              "      <th>Start_Lng</th>\n",
              "      <th>Temperature(F)</th>\n",
              "      <th>Wind_Chill(F)</th>\n",
              "      <th>Humidity(%)</th>\n",
              "      <th>Pressure(in)</th>\n",
              "      <th>Visibility(mi)</th>\n",
              "      <th>Wind_Speed(mph)</th>\n",
              "      <th>Precipitation(in)</th>\n",
              "      <th>...</th>\n",
              "      <th>Weather_Condition_Mostly Cloudy</th>\n",
              "      <th>Weather_Condition_Mostly Cloudy / Windy</th>\n",
              "      <th>Weather_Condition_Overcast</th>\n",
              "      <th>Weather_Condition_Partly Cloudy</th>\n",
              "      <th>Weather_Condition_Partly Cloudy / Windy</th>\n",
              "      <th>Weather_Condition_Rain</th>\n",
              "      <th>Weather_Condition_Rain / Windy</th>\n",
              "      <th>Weather_Condition_Smoke</th>\n",
              "      <th>Weather_Condition_Snow</th>\n",
              "      <th>Weather_Condition_T-Storm</th>\n",
              "    </tr>\n",
              "  </thead>\n",
              "  <tbody>\n",
              "    <tr>\n",
              "      <th>3928</th>\n",
              "      <td>1.464193e+09</td>\n",
              "      <td>35.691160</td>\n",
              "      <td>-121.289500</td>\n",
              "      <td>66.0</td>\n",
              "      <td>66.0</td>\n",
              "      <td>59.0</td>\n",
              "      <td>29.90</td>\n",
              "      <td>10.0</td>\n",
              "      <td>20.0</td>\n",
              "      <td>0.0</td>\n",
              "      <td>...</td>\n",
              "      <td>1</td>\n",
              "      <td>0</td>\n",
              "      <td>0</td>\n",
              "      <td>0</td>\n",
              "      <td>0</td>\n",
              "      <td>0</td>\n",
              "      <td>0</td>\n",
              "      <td>0</td>\n",
              "      <td>0</td>\n",
              "      <td>0</td>\n",
              "    </tr>\n",
              "    <tr>\n",
              "      <th>4603</th>\n",
              "      <td>1.465236e+09</td>\n",
              "      <td>35.720880</td>\n",
              "      <td>-118.499530</td>\n",
              "      <td>101.0</td>\n",
              "      <td>101.0</td>\n",
              "      <td>8.0</td>\n",
              "      <td>27.28</td>\n",
              "      <td>10.0</td>\n",
              "      <td>18.0</td>\n",
              "      <td>0.0</td>\n",
              "      <td>...</td>\n",
              "      <td>0</td>\n",
              "      <td>0</td>\n",
              "      <td>0</td>\n",
              "      <td>1</td>\n",
              "      <td>0</td>\n",
              "      <td>0</td>\n",
              "      <td>0</td>\n",
              "      <td>0</td>\n",
              "      <td>0</td>\n",
              "      <td>0</td>\n",
              "    </tr>\n",
              "    <tr>\n",
              "      <th>4604</th>\n",
              "      <td>1.465236e+09</td>\n",
              "      <td>35.720930</td>\n",
              "      <td>-118.499920</td>\n",
              "      <td>101.0</td>\n",
              "      <td>101.0</td>\n",
              "      <td>8.0</td>\n",
              "      <td>27.28</td>\n",
              "      <td>10.0</td>\n",
              "      <td>18.0</td>\n",
              "      <td>0.0</td>\n",
              "      <td>...</td>\n",
              "      <td>0</td>\n",
              "      <td>0</td>\n",
              "      <td>0</td>\n",
              "      <td>1</td>\n",
              "      <td>0</td>\n",
              "      <td>0</td>\n",
              "      <td>0</td>\n",
              "      <td>0</td>\n",
              "      <td>0</td>\n",
              "      <td>0</td>\n",
              "    </tr>\n",
              "    <tr>\n",
              "      <th>6582</th>\n",
              "      <td>1.460562e+09</td>\n",
              "      <td>34.436780</td>\n",
              "      <td>-118.372328</td>\n",
              "      <td>74.0</td>\n",
              "      <td>74.0</td>\n",
              "      <td>48.0</td>\n",
              "      <td>29.14</td>\n",
              "      <td>10.0</td>\n",
              "      <td>9.0</td>\n",
              "      <td>0.0</td>\n",
              "      <td>...</td>\n",
              "      <td>0</td>\n",
              "      <td>0</td>\n",
              "      <td>0</td>\n",
              "      <td>0</td>\n",
              "      <td>0</td>\n",
              "      <td>0</td>\n",
              "      <td>0</td>\n",
              "      <td>0</td>\n",
              "      <td>0</td>\n",
              "      <td>0</td>\n",
              "    </tr>\n",
              "    <tr>\n",
              "      <th>6584</th>\n",
              "      <td>1.460562e+09</td>\n",
              "      <td>34.432644</td>\n",
              "      <td>-118.383992</td>\n",
              "      <td>74.0</td>\n",
              "      <td>74.0</td>\n",
              "      <td>48.0</td>\n",
              "      <td>29.14</td>\n",
              "      <td>10.0</td>\n",
              "      <td>9.0</td>\n",
              "      <td>0.0</td>\n",
              "      <td>...</td>\n",
              "      <td>0</td>\n",
              "      <td>0</td>\n",
              "      <td>0</td>\n",
              "      <td>0</td>\n",
              "      <td>0</td>\n",
              "      <td>0</td>\n",
              "      <td>0</td>\n",
              "      <td>0</td>\n",
              "      <td>0</td>\n",
              "      <td>0</td>\n",
              "    </tr>\n",
              "    <tr>\n",
              "      <th>...</th>\n",
              "      <td>...</td>\n",
              "      <td>...</td>\n",
              "      <td>...</td>\n",
              "      <td>...</td>\n",
              "      <td>...</td>\n",
              "      <td>...</td>\n",
              "      <td>...</td>\n",
              "      <td>...</td>\n",
              "      <td>...</td>\n",
              "      <td>...</td>\n",
              "      <td>...</td>\n",
              "      <td>...</td>\n",
              "      <td>...</td>\n",
              "      <td>...</td>\n",
              "      <td>...</td>\n",
              "      <td>...</td>\n",
              "      <td>...</td>\n",
              "      <td>...</td>\n",
              "      <td>...</td>\n",
              "      <td>...</td>\n",
              "      <td>...</td>\n",
              "    </tr>\n",
              "    <tr>\n",
              "      <th>2481291</th>\n",
              "      <td>1.567421e+09</td>\n",
              "      <td>38.502312</td>\n",
              "      <td>-121.432019</td>\n",
              "      <td>82.0</td>\n",
              "      <td>82.0</td>\n",
              "      <td>44.0</td>\n",
              "      <td>29.90</td>\n",
              "      <td>10.0</td>\n",
              "      <td>0.0</td>\n",
              "      <td>0.0</td>\n",
              "      <td>...</td>\n",
              "      <td>0</td>\n",
              "      <td>0</td>\n",
              "      <td>0</td>\n",
              "      <td>0</td>\n",
              "      <td>0</td>\n",
              "      <td>0</td>\n",
              "      <td>0</td>\n",
              "      <td>0</td>\n",
              "      <td>0</td>\n",
              "      <td>0</td>\n",
              "    </tr>\n",
              "    <tr>\n",
              "      <th>2420025</th>\n",
              "      <td>1.571252e+09</td>\n",
              "      <td>38.591279</td>\n",
              "      <td>-121.479478</td>\n",
              "      <td>65.0</td>\n",
              "      <td>65.0</td>\n",
              "      <td>50.0</td>\n",
              "      <td>29.82</td>\n",
              "      <td>10.0</td>\n",
              "      <td>8.0</td>\n",
              "      <td>0.0</td>\n",
              "      <td>...</td>\n",
              "      <td>0</td>\n",
              "      <td>0</td>\n",
              "      <td>0</td>\n",
              "      <td>0</td>\n",
              "      <td>0</td>\n",
              "      <td>0</td>\n",
              "      <td>0</td>\n",
              "      <td>0</td>\n",
              "      <td>0</td>\n",
              "      <td>0</td>\n",
              "    </tr>\n",
              "    <tr>\n",
              "      <th>2414288</th>\n",
              "      <td>1.570775e+09</td>\n",
              "      <td>34.521978</td>\n",
              "      <td>-118.097385</td>\n",
              "      <td>41.0</td>\n",
              "      <td>41.0</td>\n",
              "      <td>20.0</td>\n",
              "      <td>27.48</td>\n",
              "      <td>10.0</td>\n",
              "      <td>3.0</td>\n",
              "      <td>0.0</td>\n",
              "      <td>...</td>\n",
              "      <td>0</td>\n",
              "      <td>0</td>\n",
              "      <td>0</td>\n",
              "      <td>1</td>\n",
              "      <td>0</td>\n",
              "      <td>0</td>\n",
              "      <td>0</td>\n",
              "      <td>0</td>\n",
              "      <td>0</td>\n",
              "      <td>0</td>\n",
              "    </tr>\n",
              "    <tr>\n",
              "      <th>2435050</th>\n",
              "      <td>1.572160e+09</td>\n",
              "      <td>35.376234</td>\n",
              "      <td>-118.914164</td>\n",
              "      <td>53.0</td>\n",
              "      <td>53.0</td>\n",
              "      <td>57.0</td>\n",
              "      <td>29.21</td>\n",
              "      <td>10.0</td>\n",
              "      <td>13.0</td>\n",
              "      <td>0.0</td>\n",
              "      <td>...</td>\n",
              "      <td>0</td>\n",
              "      <td>0</td>\n",
              "      <td>0</td>\n",
              "      <td>0</td>\n",
              "      <td>0</td>\n",
              "      <td>0</td>\n",
              "      <td>0</td>\n",
              "      <td>0</td>\n",
              "      <td>0</td>\n",
              "      <td>0</td>\n",
              "    </tr>\n",
              "    <tr>\n",
              "      <th>2423157</th>\n",
              "      <td>1.571388e+09</td>\n",
              "      <td>33.942424</td>\n",
              "      <td>-117.243778</td>\n",
              "      <td>59.0</td>\n",
              "      <td>59.0</td>\n",
              "      <td>100.0</td>\n",
              "      <td>28.31</td>\n",
              "      <td>7.0</td>\n",
              "      <td>3.0</td>\n",
              "      <td>0.0</td>\n",
              "      <td>...</td>\n",
              "      <td>0</td>\n",
              "      <td>0</td>\n",
              "      <td>0</td>\n",
              "      <td>1</td>\n",
              "      <td>0</td>\n",
              "      <td>0</td>\n",
              "      <td>0</td>\n",
              "      <td>0</td>\n",
              "      <td>0</td>\n",
              "      <td>0</td>\n",
              "    </tr>\n",
              "  </tbody>\n",
              "</table>\n",
              "<p>1416 rows × 452 columns</p>\n",
              "</div>\n",
              "      <button class=\"colab-df-convert\" onclick=\"convertToInteractive('df-6e3342c1-0b33-426f-a96f-a2f9f1a4bb59')\"\n",
              "              title=\"Convert this dataframe to an interactive table.\"\n",
              "              style=\"display:none;\">\n",
              "        \n",
              "  <svg xmlns=\"http://www.w3.org/2000/svg\" height=\"24px\"viewBox=\"0 0 24 24\"\n",
              "       width=\"24px\">\n",
              "    <path d=\"M0 0h24v24H0V0z\" fill=\"none\"/>\n",
              "    <path d=\"M18.56 5.44l.94 2.06.94-2.06 2.06-.94-2.06-.94-.94-2.06-.94 2.06-2.06.94zm-11 1L8.5 8.5l.94-2.06 2.06-.94-2.06-.94L8.5 2.5l-.94 2.06-2.06.94zm10 10l.94 2.06.94-2.06 2.06-.94-2.06-.94-.94-2.06-.94 2.06-2.06.94z\"/><path d=\"M17.41 7.96l-1.37-1.37c-.4-.4-.92-.59-1.43-.59-.52 0-1.04.2-1.43.59L10.3 9.45l-7.72 7.72c-.78.78-.78 2.05 0 2.83L4 21.41c.39.39.9.59 1.41.59.51 0 1.02-.2 1.41-.59l7.78-7.78 2.81-2.81c.8-.78.8-2.07 0-2.86zM5.41 20L4 18.59l7.72-7.72 1.47 1.35L5.41 20z\"/>\n",
              "  </svg>\n",
              "      </button>\n",
              "      \n",
              "  <style>\n",
              "    .colab-df-container {\n",
              "      display:flex;\n",
              "      flex-wrap:wrap;\n",
              "      gap: 12px;\n",
              "    }\n",
              "\n",
              "    .colab-df-convert {\n",
              "      background-color: #E8F0FE;\n",
              "      border: none;\n",
              "      border-radius: 50%;\n",
              "      cursor: pointer;\n",
              "      display: none;\n",
              "      fill: #1967D2;\n",
              "      height: 32px;\n",
              "      padding: 0 0 0 0;\n",
              "      width: 32px;\n",
              "    }\n",
              "\n",
              "    .colab-df-convert:hover {\n",
              "      background-color: #E2EBFA;\n",
              "      box-shadow: 0px 1px 2px rgba(60, 64, 67, 0.3), 0px 1px 3px 1px rgba(60, 64, 67, 0.15);\n",
              "      fill: #174EA6;\n",
              "    }\n",
              "\n",
              "    [theme=dark] .colab-df-convert {\n",
              "      background-color: #3B4455;\n",
              "      fill: #D2E3FC;\n",
              "    }\n",
              "\n",
              "    [theme=dark] .colab-df-convert:hover {\n",
              "      background-color: #434B5C;\n",
              "      box-shadow: 0px 1px 3px 1px rgba(0, 0, 0, 0.15);\n",
              "      filter: drop-shadow(0px 1px 2px rgba(0, 0, 0, 0.3));\n",
              "      fill: #FFFFFF;\n",
              "    }\n",
              "  </style>\n",
              "\n",
              "      <script>\n",
              "        const buttonEl =\n",
              "          document.querySelector('#df-6e3342c1-0b33-426f-a96f-a2f9f1a4bb59 button.colab-df-convert');\n",
              "        buttonEl.style.display =\n",
              "          google.colab.kernel.accessAllowed ? 'block' : 'none';\n",
              "\n",
              "        async function convertToInteractive(key) {\n",
              "          const element = document.querySelector('#df-6e3342c1-0b33-426f-a96f-a2f9f1a4bb59');\n",
              "          const dataTable =\n",
              "            await google.colab.kernel.invokeFunction('convertToInteractive',\n",
              "                                                     [key], {});\n",
              "          if (!dataTable) return;\n",
              "\n",
              "          const docLinkHtml = 'Like what you see? Visit the ' +\n",
              "            '<a target=\"_blank\" href=https://colab.research.google.com/notebooks/data_table.ipynb>data table notebook</a>'\n",
              "            + ' to learn more about interactive tables.';\n",
              "          element.innerHTML = '';\n",
              "          dataTable['output_type'] = 'display_data';\n",
              "          await google.colab.output.renderOutput(dataTable, element);\n",
              "          const docLink = document.createElement('div');\n",
              "          docLink.innerHTML = docLinkHtml;\n",
              "          element.appendChild(docLink);\n",
              "        }\n",
              "      </script>\n",
              "    </div>\n",
              "  </div>\n",
              "  "
            ]
          },
          "metadata": {},
          "execution_count": 468
        }
      ]
    },
    {
      "cell_type": "code",
      "source": [
        "X=df_ca_bal"
      ],
      "metadata": {
        "id": "xU9gUga9upwp"
      },
      "execution_count": null,
      "outputs": []
    },
    {
      "cell_type": "code",
      "source": [
        "print(X.columns.tolist())"
      ],
      "metadata": {
        "colab": {
          "base_uri": "https://localhost:8080/"
        },
        "id": "7wyr_8JOVusm",
        "outputId": "f0307969-9069-4021-c9d3-00cd21742746"
      },
      "execution_count": null,
      "outputs": [
        {
          "output_type": "stream",
          "name": "stdout",
          "text": [
            "['Start_Time', 'Start_Lat', 'Start_Lng', 'Temperature(F)', 'Wind_Chill(F)', 'Humidity(%)', 'Pressure(in)', 'Visibility(mi)', 'Wind_Speed(mph)', 'Precipitation(in)', 'Amenity', 'Bump', 'Crossing', 'Give_Way', 'Junction', 'No_Exit', 'Railway', 'Roundabout', 'Stop', 'Traffic_Calming', 'Traffic_Signal', 'Sunrise_Sunset', 'City_Agoura Hills', 'City_Albion', 'City_Alhambra', 'City_Alturas', 'City_American Canyon', 'City_Anaheim', 'City_Angels Camp', 'City_Antioch', 'City_Aptos', 'City_Arbuckle', 'City_Arnold', 'City_Aromas', 'City_Arroyo Grande', 'City_Arvin', 'City_Auburn', 'City_Azusa', 'City_Bakersfield', 'City_Baldwin Park', 'City_Bay Point', 'City_Beaumont', 'City_Bell Gardens', 'City_Bella Vista', 'City_Bellflower', 'City_Belmont', 'City_Belvedere Tiburon', 'City_Ben Lomond', 'City_Berkeley', 'City_Big Pine', 'City_Big Sur', 'City_Bishop', 'City_Bloomington', 'City_Blue Lake', 'City_Blythe', 'City_Bodega', 'City_Bodega Bay', 'City_Boron', 'City_Boulder Creek', 'City_Brentwood', 'City_Browns Valley', 'City_Burbank', 'City_Burlingame', 'City_Byron', 'City_Calabasas', 'City_Calistoga', 'City_Camarillo', 'City_Canoga Park', 'City_Canyon Country', 'City_Carmel', 'City_Carmel Valley', 'City_Castaic', 'City_Castro Valley', 'City_Castroville', 'City_Cazadero', 'City_Cedarpines Park', 'City_Ceres', 'City_Cerritos', 'City_Chatsworth', 'City_Chester', 'City_Chico', 'City_Chilcoot', 'City_Chino', 'City_Chowchilla', 'City_City Of Industry', 'City_Clayton', 'City_Clovis', 'City_Colfax', 'City_Colton', 'City_Colusa', 'City_Compton', 'City_Concord', 'City_Cool', 'City_Corona', 'City_Costa Mesa', 'City_Cottonwood', 'City_Covina', 'City_Crescent City', 'City_Crestline', 'City_Crows Landing', 'City_Culver City', 'City_Cupertino', 'City_Dinuba', 'City_Dixon', 'City_Downey', 'City_Dublin', 'City_Echo Lake', 'City_El Monte', 'City_El Nido', 'City_El Sobrante', 'City_Elk Grove', 'City_Escalon', 'City_Escondido', 'City_Eureka', 'City_Exeter', 'City_Fairfield', 'City_Fallbrook', 'City_Felton', 'City_Fillmore', 'City_Fontana', 'City_Forest Ranch', 'City_Fort Bragg', 'City_Fort Jones', 'City_Fountain Valley', 'City_Frazier Park', 'City_Fremont', 'City_French Camp', 'City_Fresno', 'City_Galt', 'City_Garberville', 'City_Garden Grove', 'City_Garden Valley', 'City_Gardena', 'City_Gasquet', 'City_Gilroy', 'City_Glendale', 'City_Glenn', 'City_Goleta', 'City_Grass Valley', 'City_Greenbrae', 'City_Greenfield', 'City_Greenville', 'City_Groveland', 'City_Gualala', 'City_Guerneville', 'City_Hacienda Heights', 'City_Half Moon Bay', 'City_Hamilton City', 'City_Hanford', 'City_Hawthorne', 'City_Hayfork', 'City_Hayward', 'City_Hemet', 'City_Highland', 'City_Hillsborough', 'City_Hilmar', 'City_Hinkley', 'City_Hollister', 'City_Hopland', 'City_Huntington Beach', 'City_Huntington Park', 'City_Inglewood', 'City_Inyokern', 'City_Irvine', 'City_Isleton', 'City_Jackson', 'City_Jamestown', 'City_Jenner', 'City_Julian', 'City_Junction City', 'City_Kelseyville', 'City_Kerman', 'City_King City', 'City_Kings Canyon National Pk', 'City_Kingsburg', 'City_Klamath River', 'City_La Crescenta', 'City_La Grange', 'City_La Mirada', 'City_La Puente', 'City_Laguna Niguel', 'City_Lake Arrowhead', 'City_Lake Elsinore', 'City_Lake Forest', 'City_Lake Isabella', 'City_Lancaster', 'City_Laytonville', 'City_Lebec', 'City_Lee Vining', 'City_Leggett', 'City_Lemoore', 'City_Leona Valley', 'City_Lincoln', 'City_Linden', 'City_Little River', 'City_Littlerock', 'City_Livermore', 'City_Llano', 'City_Lodi', 'City_Lompoc', 'City_Long Beach', 'City_Loomis', 'City_Los Alamitos', 'City_Los Angeles', 'City_Los Banos', 'City_Los Gatos', 'City_Los Molinos', 'City_Lower Lake', 'City_Lucerne', 'City_Macdoel', 'City_Madera', 'City_Malibu', 'City_Manteca', 'City_Manton', 'City_Maricopa', 'City_Marina', 'City_Markleeville', 'City_Martinez', 'City_Marysville', 'City_Mc Farland', 'City_Mckinleyville', 'City_Mendota', 'City_Menifee', 'City_Mentone', 'City_Merced', 'City_Middletown', 'City_Mill Valley', 'City_Millbrae', 'City_Mira Loma', 'City_Modesto', 'City_Mokelumne Hill', 'City_Montague', 'City_Monte Rio', 'City_Montebello', 'City_Monterey', 'City_Monterey Park', 'City_Moorpark', 'City_Moreno Valley', 'City_Moss Beach', 'City_Moss Landing', 'City_Murphys', 'City_Murrieta', 'City_Napa', 'City_National City', 'City_Nevada City', 'City_New Cuyama', 'City_Newcastle', 'City_Newhall', 'City_Newman', 'City_Nicasio', 'City_Nicolaus', 'City_North Hollywood', 'City_North San Juan', 'City_Norwalk', 'City_Nuevo', 'City_Oak View', 'City_Oakdale', 'City_Oakhurst', 'City_Oakland', 'City_Oceanside', 'City_Ojai', 'City_Old Station', 'City_Olivehurst', 'City_Ontario', 'City_Orange', 'City_Orland', 'City_Oroville', 'City_Oxnard', 'City_Pacifica', 'City_Pala', 'City_Palmdale', 'City_Panorama City', 'City_Patterson', 'City_Pearblossom', 'City_Perris', 'City_Petaluma', 'City_Phelan', 'City_Philo', 'City_Piru', 'City_Pixley', 'City_Placerville', 'City_Pleasanton', 'City_Portola', 'City_Prather', 'City_Ragged Point', 'City_Rancho Santa Fe', 'City_Rancho Santa Margarita', 'City_Red Bluff', 'City_Redding', 'City_Redlands', 'City_Redwood City', 'City_Richmond', 'City_Ridgecrest', 'City_Rio Vista', 'City_Riverside', 'City_Rocklin', 'City_Rodeo', 'City_Rosamond', 'City_Rowland Heights', 'City_Royal Oaks', 'City_Running Springs', 'City_Sacramento', 'City_Saint Helena', 'City_Salinas', 'City_San Andreas', 'City_San Ardo', 'City_San Bernardino', 'City_San Diego', 'City_San Francisco', 'City_San Jacinto', 'City_San Jose', 'City_San Juan Capistrano', 'City_San Leandro', 'City_San Lorenzo', 'City_San Luis Obispo', 'City_San Mateo', 'City_San Quentin', 'City_San Rafael', 'City_San Ramon', 'City_San Simeon', 'City_Sanger', 'City_Santa Ana', 'City_Santa Barbara', 'City_Santa Clarita', 'City_Santa Cruz', 'City_Santa Fe Springs', 'City_Santa Margarita', 'City_Santa Maria', 'City_Santa Monica', 'City_Santa Paula', 'City_Santa Rosa', 'City_Santa Rosa Valley', 'City_Saratoga', 'City_Scotts Valley', 'City_Sebastopol', 'City_Selma', 'City_Shandon', 'City_Shaver Lake', 'City_Sherman Oaks', 'City_Shingle Springs', 'City_Shingletown', 'City_Silverado', 'City_Simi Valley', 'City_Smartsville', 'City_Smith River', 'City_Soledad', 'City_Somis', 'City_Sonoma', 'City_Sonora', 'City_Soquel', 'City_South El Monte', 'City_South Gate', 'City_South Lake Tahoe', 'City_South Pasadena', 'City_Squaw Valley', 'City_Stevenson Ranch', 'City_Stockton', 'City_Stratford', 'City_Strathmore', 'City_Sun Valley', 'City_Sunol', 'City_Tahoe City', 'City_Tahoma', 'City_Temecula', 'City_Templeton', 'City_The Sea Ranch', 'City_Toluca Lake', 'City_Topanga', 'City_Torrance', 'City_Tracy', 'City_Tranquillity', 'City_Truckee', 'City_Tulare', 'City_Turlock', 'City_Tustin', 'City_Twin Bridges', 'City_Upper Lake', 'City_Vacaville', 'City_Vallecito', 'City_Valley Center', 'City_Valley Springs', 'City_Valyermo', 'City_Van Nuys', 'City_Vernalis', 'City_Vernon', 'City_Vidal', 'City_View Park', 'City_Visalia', 'City_Vista', 'City_Walnut Creek', 'City_Wasco', 'City_Waterford', 'City_Watsonville', 'City_Weed', 'City_West Covina', 'City_West Point', 'City_West Sacramento', 'City_Westminster', 'City_Wheatland', 'City_Whittier', 'City_Williams', 'City_Willits', 'City_Winchester', 'City_Winnetka', 'City_Winton', 'City_Wofford Heights', 'City_Woodland', 'City_Woodland Hills', 'City_Woodside', 'City_Wrightwood', 'City_Yuba City', 'City_Yucaipa', 'Wind_Direction_CALM', 'Wind_Direction_E', 'Wind_Direction_ENE', 'Wind_Direction_ESE', 'Wind_Direction_East', 'Wind_Direction_N', 'Wind_Direction_NE', 'Wind_Direction_NNE', 'Wind_Direction_NNW', 'Wind_Direction_NW', 'Wind_Direction_S', 'Wind_Direction_SE', 'Wind_Direction_SSE', 'Wind_Direction_SSW', 'Wind_Direction_SW', 'Wind_Direction_VAR', 'Wind_Direction_W', 'Wind_Direction_WNW', 'Wind_Direction_WSW', 'Wind_Direction_West', 'Weather_Condition_Cloudy', 'Weather_Condition_Drizzle', 'Weather_Condition_Fair', 'Weather_Condition_Fair / Windy', 'Weather_Condition_Fog', 'Weather_Condition_Haze', 'Weather_Condition_Heavy Rain', 'Weather_Condition_Heavy Snow', 'Weather_Condition_Light Rain', 'Weather_Condition_Light Snow', 'Weather_Condition_Mostly Cloudy', 'Weather_Condition_Mostly Cloudy / Windy', 'Weather_Condition_Overcast', 'Weather_Condition_Partly Cloudy', 'Weather_Condition_Partly Cloudy / Windy', 'Weather_Condition_Rain', 'Weather_Condition_Rain / Windy', 'Weather_Condition_Smoke', 'Weather_Condition_Snow', 'Weather_Condition_T-Storm']\n"
          ]
        }
      ]
    },
    {
      "cell_type": "code",
      "source": [
        "X_train, X_test, y_train, y_test = train_test_split(X, y, test_size = 0.25)\n",
        "X_train, X_valid, y_train, y_valid = train_test_split(X_train, y_train, test_size = 0.25)"
      ],
      "metadata": {
        "id": "9ZovyYFWu94f"
      },
      "execution_count": null,
      "outputs": []
    },
    {
      "cell_type": "code",
      "source": [
        "X_train.head()"
      ],
      "metadata": {
        "id": "cpdpDq_8u_KK",
        "colab": {
          "base_uri": "https://localhost:8080/",
          "height": 314
        },
        "outputId": "af59b4f4-a26a-46d3-a871-2a0e44a6abed"
      },
      "execution_count": null,
      "outputs": [
        {
          "output_type": "execute_result",
          "data": {
            "text/plain": [
              "           Start_Time  Start_Lat   Start_Lng  Temperature(F)  Wind_Chill(F)  \\\n",
              "2368679  1.577455e+09  35.036520 -120.182570            60.0           60.0   \n",
              "2797712  1.559080e+09  32.764630 -117.161680            58.0           58.0   \n",
              "2495046  1.568406e+09  34.033532 -118.137931            77.0           77.0   \n",
              "2482485  1.567532e+09  41.420057 -122.383385            79.0           79.0   \n",
              "2409116  1.570483e+09  35.653261 -121.221257            56.0           56.0   \n",
              "\n",
              "         Humidity(%)  Pressure(in)  Visibility(mi)  Wind_Speed(mph)  \\\n",
              "2368679         38.0         29.70            10.0             14.0   \n",
              "2797712         81.0         29.48            10.0              0.0   \n",
              "2495046         64.0         29.66            10.0              0.0   \n",
              "2482485         19.0         26.38            10.0              0.0   \n",
              "2409116         80.0         29.70            10.0              0.0   \n",
              "\n",
              "         Precipitation(in)  ...  Weather_Condition_Mostly Cloudy  \\\n",
              "2368679                0.0  ...                                0   \n",
              "2797712                0.0  ...                                0   \n",
              "2495046                0.0  ...                                0   \n",
              "2482485                0.0  ...                                0   \n",
              "2409116                0.0  ...                                0   \n",
              "\n",
              "         Weather_Condition_Mostly Cloudy / Windy  Weather_Condition_Overcast  \\\n",
              "2368679                                        0                           0   \n",
              "2797712                                        0                           0   \n",
              "2495046                                        0                           0   \n",
              "2482485                                        0                           0   \n",
              "2409116                                        0                           0   \n",
              "\n",
              "         Weather_Condition_Partly Cloudy  \\\n",
              "2368679                                0   \n",
              "2797712                                1   \n",
              "2495046                                1   \n",
              "2482485                                0   \n",
              "2409116                                0   \n",
              "\n",
              "         Weather_Condition_Partly Cloudy / Windy  Weather_Condition_Rain  \\\n",
              "2368679                                        0                       0   \n",
              "2797712                                        0                       0   \n",
              "2495046                                        0                       0   \n",
              "2482485                                        0                       0   \n",
              "2409116                                        0                       0   \n",
              "\n",
              "         Weather_Condition_Rain / Windy  Weather_Condition_Smoke  \\\n",
              "2368679                               0                        0   \n",
              "2797712                               0                        0   \n",
              "2495046                               0                        0   \n",
              "2482485                               0                        0   \n",
              "2409116                               0                        0   \n",
              "\n",
              "         Weather_Condition_Snow  Weather_Condition_T-Storm  \n",
              "2368679                       0                          0  \n",
              "2797712                       0                          0  \n",
              "2495046                       0                          0  \n",
              "2482485                       0                          0  \n",
              "2409116                       0                          0  \n",
              "\n",
              "[5 rows x 452 columns]"
            ],
            "text/html": [
              "\n",
              "  <div id=\"df-3c5b32a2-135f-420f-8585-b9e4ffd56d94\">\n",
              "    <div class=\"colab-df-container\">\n",
              "      <div>\n",
              "<style scoped>\n",
              "    .dataframe tbody tr th:only-of-type {\n",
              "        vertical-align: middle;\n",
              "    }\n",
              "\n",
              "    .dataframe tbody tr th {\n",
              "        vertical-align: top;\n",
              "    }\n",
              "\n",
              "    .dataframe thead th {\n",
              "        text-align: right;\n",
              "    }\n",
              "</style>\n",
              "<table border=\"1\" class=\"dataframe\">\n",
              "  <thead>\n",
              "    <tr style=\"text-align: right;\">\n",
              "      <th></th>\n",
              "      <th>Start_Time</th>\n",
              "      <th>Start_Lat</th>\n",
              "      <th>Start_Lng</th>\n",
              "      <th>Temperature(F)</th>\n",
              "      <th>Wind_Chill(F)</th>\n",
              "      <th>Humidity(%)</th>\n",
              "      <th>Pressure(in)</th>\n",
              "      <th>Visibility(mi)</th>\n",
              "      <th>Wind_Speed(mph)</th>\n",
              "      <th>Precipitation(in)</th>\n",
              "      <th>...</th>\n",
              "      <th>Weather_Condition_Mostly Cloudy</th>\n",
              "      <th>Weather_Condition_Mostly Cloudy / Windy</th>\n",
              "      <th>Weather_Condition_Overcast</th>\n",
              "      <th>Weather_Condition_Partly Cloudy</th>\n",
              "      <th>Weather_Condition_Partly Cloudy / Windy</th>\n",
              "      <th>Weather_Condition_Rain</th>\n",
              "      <th>Weather_Condition_Rain / Windy</th>\n",
              "      <th>Weather_Condition_Smoke</th>\n",
              "      <th>Weather_Condition_Snow</th>\n",
              "      <th>Weather_Condition_T-Storm</th>\n",
              "    </tr>\n",
              "  </thead>\n",
              "  <tbody>\n",
              "    <tr>\n",
              "      <th>2368679</th>\n",
              "      <td>1.577455e+09</td>\n",
              "      <td>35.036520</td>\n",
              "      <td>-120.182570</td>\n",
              "      <td>60.0</td>\n",
              "      <td>60.0</td>\n",
              "      <td>38.0</td>\n",
              "      <td>29.70</td>\n",
              "      <td>10.0</td>\n",
              "      <td>14.0</td>\n",
              "      <td>0.0</td>\n",
              "      <td>...</td>\n",
              "      <td>0</td>\n",
              "      <td>0</td>\n",
              "      <td>0</td>\n",
              "      <td>0</td>\n",
              "      <td>0</td>\n",
              "      <td>0</td>\n",
              "      <td>0</td>\n",
              "      <td>0</td>\n",
              "      <td>0</td>\n",
              "      <td>0</td>\n",
              "    </tr>\n",
              "    <tr>\n",
              "      <th>2797712</th>\n",
              "      <td>1.559080e+09</td>\n",
              "      <td>32.764630</td>\n",
              "      <td>-117.161680</td>\n",
              "      <td>58.0</td>\n",
              "      <td>58.0</td>\n",
              "      <td>81.0</td>\n",
              "      <td>29.48</td>\n",
              "      <td>10.0</td>\n",
              "      <td>0.0</td>\n",
              "      <td>0.0</td>\n",
              "      <td>...</td>\n",
              "      <td>0</td>\n",
              "      <td>0</td>\n",
              "      <td>0</td>\n",
              "      <td>1</td>\n",
              "      <td>0</td>\n",
              "      <td>0</td>\n",
              "      <td>0</td>\n",
              "      <td>0</td>\n",
              "      <td>0</td>\n",
              "      <td>0</td>\n",
              "    </tr>\n",
              "    <tr>\n",
              "      <th>2495046</th>\n",
              "      <td>1.568406e+09</td>\n",
              "      <td>34.033532</td>\n",
              "      <td>-118.137931</td>\n",
              "      <td>77.0</td>\n",
              "      <td>77.0</td>\n",
              "      <td>64.0</td>\n",
              "      <td>29.66</td>\n",
              "      <td>10.0</td>\n",
              "      <td>0.0</td>\n",
              "      <td>0.0</td>\n",
              "      <td>...</td>\n",
              "      <td>0</td>\n",
              "      <td>0</td>\n",
              "      <td>0</td>\n",
              "      <td>1</td>\n",
              "      <td>0</td>\n",
              "      <td>0</td>\n",
              "      <td>0</td>\n",
              "      <td>0</td>\n",
              "      <td>0</td>\n",
              "      <td>0</td>\n",
              "    </tr>\n",
              "    <tr>\n",
              "      <th>2482485</th>\n",
              "      <td>1.567532e+09</td>\n",
              "      <td>41.420057</td>\n",
              "      <td>-122.383385</td>\n",
              "      <td>79.0</td>\n",
              "      <td>79.0</td>\n",
              "      <td>19.0</td>\n",
              "      <td>26.38</td>\n",
              "      <td>10.0</td>\n",
              "      <td>0.0</td>\n",
              "      <td>0.0</td>\n",
              "      <td>...</td>\n",
              "      <td>0</td>\n",
              "      <td>0</td>\n",
              "      <td>0</td>\n",
              "      <td>0</td>\n",
              "      <td>0</td>\n",
              "      <td>0</td>\n",
              "      <td>0</td>\n",
              "      <td>0</td>\n",
              "      <td>0</td>\n",
              "      <td>0</td>\n",
              "    </tr>\n",
              "    <tr>\n",
              "      <th>2409116</th>\n",
              "      <td>1.570483e+09</td>\n",
              "      <td>35.653261</td>\n",
              "      <td>-121.221257</td>\n",
              "      <td>56.0</td>\n",
              "      <td>56.0</td>\n",
              "      <td>80.0</td>\n",
              "      <td>29.70</td>\n",
              "      <td>10.0</td>\n",
              "      <td>0.0</td>\n",
              "      <td>0.0</td>\n",
              "      <td>...</td>\n",
              "      <td>0</td>\n",
              "      <td>0</td>\n",
              "      <td>0</td>\n",
              "      <td>0</td>\n",
              "      <td>0</td>\n",
              "      <td>0</td>\n",
              "      <td>0</td>\n",
              "      <td>0</td>\n",
              "      <td>0</td>\n",
              "      <td>0</td>\n",
              "    </tr>\n",
              "  </tbody>\n",
              "</table>\n",
              "<p>5 rows × 452 columns</p>\n",
              "</div>\n",
              "      <button class=\"colab-df-convert\" onclick=\"convertToInteractive('df-3c5b32a2-135f-420f-8585-b9e4ffd56d94')\"\n",
              "              title=\"Convert this dataframe to an interactive table.\"\n",
              "              style=\"display:none;\">\n",
              "        \n",
              "  <svg xmlns=\"http://www.w3.org/2000/svg\" height=\"24px\"viewBox=\"0 0 24 24\"\n",
              "       width=\"24px\">\n",
              "    <path d=\"M0 0h24v24H0V0z\" fill=\"none\"/>\n",
              "    <path d=\"M18.56 5.44l.94 2.06.94-2.06 2.06-.94-2.06-.94-.94-2.06-.94 2.06-2.06.94zm-11 1L8.5 8.5l.94-2.06 2.06-.94-2.06-.94L8.5 2.5l-.94 2.06-2.06.94zm10 10l.94 2.06.94-2.06 2.06-.94-2.06-.94-.94-2.06-.94 2.06-2.06.94z\"/><path d=\"M17.41 7.96l-1.37-1.37c-.4-.4-.92-.59-1.43-.59-.52 0-1.04.2-1.43.59L10.3 9.45l-7.72 7.72c-.78.78-.78 2.05 0 2.83L4 21.41c.39.39.9.59 1.41.59.51 0 1.02-.2 1.41-.59l7.78-7.78 2.81-2.81c.8-.78.8-2.07 0-2.86zM5.41 20L4 18.59l7.72-7.72 1.47 1.35L5.41 20z\"/>\n",
              "  </svg>\n",
              "      </button>\n",
              "      \n",
              "  <style>\n",
              "    .colab-df-container {\n",
              "      display:flex;\n",
              "      flex-wrap:wrap;\n",
              "      gap: 12px;\n",
              "    }\n",
              "\n",
              "    .colab-df-convert {\n",
              "      background-color: #E8F0FE;\n",
              "      border: none;\n",
              "      border-radius: 50%;\n",
              "      cursor: pointer;\n",
              "      display: none;\n",
              "      fill: #1967D2;\n",
              "      height: 32px;\n",
              "      padding: 0 0 0 0;\n",
              "      width: 32px;\n",
              "    }\n",
              "\n",
              "    .colab-df-convert:hover {\n",
              "      background-color: #E2EBFA;\n",
              "      box-shadow: 0px 1px 2px rgba(60, 64, 67, 0.3), 0px 1px 3px 1px rgba(60, 64, 67, 0.15);\n",
              "      fill: #174EA6;\n",
              "    }\n",
              "\n",
              "    [theme=dark] .colab-df-convert {\n",
              "      background-color: #3B4455;\n",
              "      fill: #D2E3FC;\n",
              "    }\n",
              "\n",
              "    [theme=dark] .colab-df-convert:hover {\n",
              "      background-color: #434B5C;\n",
              "      box-shadow: 0px 1px 3px 1px rgba(0, 0, 0, 0.15);\n",
              "      filter: drop-shadow(0px 1px 2px rgba(0, 0, 0, 0.3));\n",
              "      fill: #FFFFFF;\n",
              "    }\n",
              "  </style>\n",
              "\n",
              "      <script>\n",
              "        const buttonEl =\n",
              "          document.querySelector('#df-3c5b32a2-135f-420f-8585-b9e4ffd56d94 button.colab-df-convert');\n",
              "        buttonEl.style.display =\n",
              "          google.colab.kernel.accessAllowed ? 'block' : 'none';\n",
              "\n",
              "        async function convertToInteractive(key) {\n",
              "          const element = document.querySelector('#df-3c5b32a2-135f-420f-8585-b9e4ffd56d94');\n",
              "          const dataTable =\n",
              "            await google.colab.kernel.invokeFunction('convertToInteractive',\n",
              "                                                     [key], {});\n",
              "          if (!dataTable) return;\n",
              "\n",
              "          const docLinkHtml = 'Like what you see? Visit the ' +\n",
              "            '<a target=\"_blank\" href=https://colab.research.google.com/notebooks/data_table.ipynb>data table notebook</a>'\n",
              "            + ' to learn more about interactive tables.';\n",
              "          element.innerHTML = '';\n",
              "          dataTable['output_type'] = 'display_data';\n",
              "          await google.colab.output.renderOutput(dataTable, element);\n",
              "          const docLink = document.createElement('div');\n",
              "          docLink.innerHTML = docLinkHtml;\n",
              "          element.appendChild(docLink);\n",
              "        }\n",
              "      </script>\n",
              "    </div>\n",
              "  </div>\n",
              "  "
            ]
          },
          "metadata": {},
          "execution_count": 472
        }
      ]
    },
    {
      "cell_type": "code",
      "source": [
        "from sklearn.ensemble import RandomForestClassifier\n",
        "\n",
        "rf_model = RandomForestClassifier()  \n",
        "\n",
        "print(rf_model)\n",
        "\n",
        "rf_model.fit(X_train, y_train)  \n",
        "pred_rf = rf_model.predict_proba(X_test)[:,1]"
      ],
      "metadata": {
        "colab": {
          "base_uri": "https://localhost:8080/"
        },
        "id": "WsJF93AXu1R8",
        "outputId": "6b66e4ce-d91d-4880-8c0f-e89c9c7cc599"
      },
      "execution_count": null,
      "outputs": [
        {
          "output_type": "stream",
          "name": "stdout",
          "text": [
            "RandomForestClassifier()\n"
          ]
        }
      ]
    },
    {
      "cell_type": "code",
      "source": [
        "from sklearn.metrics import classification_report\n",
        "print(classification_report(y_test, pred_rf.round(0)))"
      ],
      "metadata": {
        "colab": {
          "base_uri": "https://localhost:8080/"
        },
        "id": "es-kllpowJ5h",
        "outputId": "1114b238-1a78-4757-99eb-18bfd4d78bfb"
      },
      "execution_count": null,
      "outputs": [
        {
          "output_type": "stream",
          "name": "stdout",
          "text": [
            "              precision    recall  f1-score   support\n",
            "\n",
            "           0       0.86      0.91      0.88       183\n",
            "           1       0.90      0.84      0.87       171\n",
            "\n",
            "    accuracy                           0.88       354\n",
            "   macro avg       0.88      0.87      0.88       354\n",
            "weighted avg       0.88      0.88      0.88       354\n",
            "\n"
          ]
        }
      ]
    },
    {
      "cell_type": "code",
      "source": [
        "from xgboost import XGBClassifier\n",
        "from xgboost import plot_importance\n",
        "\n",
        "xgb_model = XGBClassifier()\n",
        "\n",
        "print(xgb_model)\n",
        "\n",
        "xgb_model.fit(X_train, y_train)\n",
        "pred_xgb =  xgb_model.predict_proba(X_test)[:, 1]"
      ],
      "metadata": {
        "colab": {
          "base_uri": "https://localhost:8080/"
        },
        "id": "uJqGKxZ_xPZJ",
        "outputId": "04975bee-1a4d-49de-f5f4-e7c84ce8bd8a"
      },
      "execution_count": null,
      "outputs": [
        {
          "output_type": "stream",
          "name": "stdout",
          "text": [
            "XGBClassifier()\n"
          ]
        }
      ]
    },
    {
      "cell_type": "code",
      "source": [
        "ax = plot_importance(booster=xgb_model, importance_type='gain', height=0.4, grid=False)\n",
        "fig = ax.figure\n",
        "fig.set_size_inches(12, 12)"
      ],
      "metadata": {
        "colab": {
          "base_uri": "https://localhost:8080/",
          "height": 730
        },
        "id": "AEyEsxvYxSdx",
        "outputId": "f068d967-521f-4113-af07-40563a3cb9b8"
      },
      "execution_count": null,
      "outputs": [
        {
          "output_type": "display_data",
          "data": {
            "text/plain": [
              "<Figure size 864x864 with 1 Axes>"
            ],
            "image/png": "[encoded data removed]"
          },
          "metadata": {
            "needs_background": "light"
          }
        }
      ]
    },
    {
      "cell_type": "markdown",
      "source": [
        "#Model Evaluation"
      ],
      "metadata": {
        "id": "l17FxUwdI8_B"
      }
    },
    {
      "cell_type": "code",
      "source": [
        "def create_roc_plot(name, predictions):\n",
        "  auc = roc_auc_score(y_test, predictions).round(2)\n",
        "  fpr, tpr, _ = roc_curve(y_test, predictions)\n",
        "\n",
        "  plt.figure(figsize=(5, 3))\n",
        "  plt.plot([0, 1], [0, 1], linestyle='--')  # plot horizontal line \n",
        "  plt.plot(fpr, tpr, label='{} AUC = {}'.format(name, auc)) # plot the roc curve for the model\n",
        "  plt.xlabel('FPR')\n",
        "  plt.ylabel('TPR')\n",
        "  plt.legend(loc='lower right')  # show the legend\n",
        "  plt.show() # show the plot\n",
        "  return None"
      ],
      "metadata": {
        "id": "oNi4SpUeJBYh"
      },
      "execution_count": null,
      "outputs": []
    },
    {
      "cell_type": "code",
      "source": [
        "create_roc_plot('Random Forest', pred_rf)\n",
        "create_roc_plot('XGBoost', pred_xgb)"
      ],
      "metadata": {
        "colab": {
          "base_uri": "https://localhost:8080/",
          "height": 433
        },
        "id": "55o9PywWJI0j",
        "outputId": "578d84fe-5b10-4cde-dfb3-59b37fdc1247"
      },
      "execution_count": null,
      "outputs": [
        {
          "output_type": "display_data",
          "data": {
            "text/plain": [
              "<Figure size 360x216 with 1 Axes>"
            ],
            "image/png": "[encoded data removed]"
          },
          "metadata": {
            "needs_background": "light"
          }
        },
        {
          "output_type": "display_data",
          "data": {
            "text/plain": [
              "<Figure size 360x216 with 1 Axes>"
            ],
            "image/png": "[encoded data removed]"
          },
          "metadata": {
            "needs_background": "light"
          }
        }
      ]
    }
  ]
}